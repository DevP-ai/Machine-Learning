{
 "cells": [
  {
   "cell_type": "code",
   "execution_count": 1,
   "metadata": {
    "id": "RIn0fKu0C-dC"
   },
   "outputs": [],
   "source": [
    "import pandas as pd\n",
    "import numpy as np\n",
    "data=pd.read_csv(\"data.csv\")"
   ]
  },
  {
   "cell_type": "code",
   "execution_count": 2,
   "metadata": {
    "colab": {
     "base_uri": "https://localhost:8080/",
     "height": 317
    },
    "id": "vK492Sh_J1YF",
    "outputId": "f2fdd254-8063-4808-978f-6ad3cafa7640"
   },
   "outputs": [
    {
     "data": {
      "text/html": [
       "<div>\n",
       "<style scoped>\n",
       "    .dataframe tbody tr th:only-of-type {\n",
       "        vertical-align: middle;\n",
       "    }\n",
       "\n",
       "    .dataframe tbody tr th {\n",
       "        vertical-align: top;\n",
       "    }\n",
       "\n",
       "    .dataframe thead th {\n",
       "        text-align: right;\n",
       "    }\n",
       "</style>\n",
       "<table border=\"1\" class=\"dataframe\">\n",
       "  <thead>\n",
       "    <tr style=\"text-align: right;\">\n",
       "      <th></th>\n",
       "      <th>id</th>\n",
       "      <th>diagnosis</th>\n",
       "      <th>radius_mean</th>\n",
       "      <th>texture_mean</th>\n",
       "      <th>perimeter_mean</th>\n",
       "      <th>area_mean</th>\n",
       "      <th>smoothness_mean</th>\n",
       "      <th>compactness_mean</th>\n",
       "      <th>concavity_mean</th>\n",
       "      <th>concave points_mean</th>\n",
       "      <th>...</th>\n",
       "      <th>texture_worst</th>\n",
       "      <th>perimeter_worst</th>\n",
       "      <th>area_worst</th>\n",
       "      <th>smoothness_worst</th>\n",
       "      <th>compactness_worst</th>\n",
       "      <th>concavity_worst</th>\n",
       "      <th>concave points_worst</th>\n",
       "      <th>symmetry_worst</th>\n",
       "      <th>fractal_dimension_worst</th>\n",
       "      <th>Unnamed: 32</th>\n",
       "    </tr>\n",
       "  </thead>\n",
       "  <tbody>\n",
       "    <tr>\n",
       "      <th>0</th>\n",
       "      <td>842302</td>\n",
       "      <td>M</td>\n",
       "      <td>17.99</td>\n",
       "      <td>10.38</td>\n",
       "      <td>122.80</td>\n",
       "      <td>1001.0</td>\n",
       "      <td>0.11840</td>\n",
       "      <td>0.27760</td>\n",
       "      <td>0.3001</td>\n",
       "      <td>0.14710</td>\n",
       "      <td>...</td>\n",
       "      <td>17.33</td>\n",
       "      <td>184.60</td>\n",
       "      <td>2019.0</td>\n",
       "      <td>0.1622</td>\n",
       "      <td>0.6656</td>\n",
       "      <td>0.7119</td>\n",
       "      <td>0.2654</td>\n",
       "      <td>0.4601</td>\n",
       "      <td>0.11890</td>\n",
       "      <td>NaN</td>\n",
       "    </tr>\n",
       "    <tr>\n",
       "      <th>1</th>\n",
       "      <td>842517</td>\n",
       "      <td>M</td>\n",
       "      <td>20.57</td>\n",
       "      <td>17.77</td>\n",
       "      <td>132.90</td>\n",
       "      <td>1326.0</td>\n",
       "      <td>0.08474</td>\n",
       "      <td>0.07864</td>\n",
       "      <td>0.0869</td>\n",
       "      <td>0.07017</td>\n",
       "      <td>...</td>\n",
       "      <td>23.41</td>\n",
       "      <td>158.80</td>\n",
       "      <td>1956.0</td>\n",
       "      <td>0.1238</td>\n",
       "      <td>0.1866</td>\n",
       "      <td>0.2416</td>\n",
       "      <td>0.1860</td>\n",
       "      <td>0.2750</td>\n",
       "      <td>0.08902</td>\n",
       "      <td>NaN</td>\n",
       "    </tr>\n",
       "    <tr>\n",
       "      <th>2</th>\n",
       "      <td>84300903</td>\n",
       "      <td>M</td>\n",
       "      <td>19.69</td>\n",
       "      <td>21.25</td>\n",
       "      <td>130.00</td>\n",
       "      <td>1203.0</td>\n",
       "      <td>0.10960</td>\n",
       "      <td>0.15990</td>\n",
       "      <td>0.1974</td>\n",
       "      <td>0.12790</td>\n",
       "      <td>...</td>\n",
       "      <td>25.53</td>\n",
       "      <td>152.50</td>\n",
       "      <td>1709.0</td>\n",
       "      <td>0.1444</td>\n",
       "      <td>0.4245</td>\n",
       "      <td>0.4504</td>\n",
       "      <td>0.2430</td>\n",
       "      <td>0.3613</td>\n",
       "      <td>0.08758</td>\n",
       "      <td>NaN</td>\n",
       "    </tr>\n",
       "    <tr>\n",
       "      <th>3</th>\n",
       "      <td>84348301</td>\n",
       "      <td>M</td>\n",
       "      <td>11.42</td>\n",
       "      <td>20.38</td>\n",
       "      <td>77.58</td>\n",
       "      <td>386.1</td>\n",
       "      <td>0.14250</td>\n",
       "      <td>0.28390</td>\n",
       "      <td>0.2414</td>\n",
       "      <td>0.10520</td>\n",
       "      <td>...</td>\n",
       "      <td>26.50</td>\n",
       "      <td>98.87</td>\n",
       "      <td>567.7</td>\n",
       "      <td>0.2098</td>\n",
       "      <td>0.8663</td>\n",
       "      <td>0.6869</td>\n",
       "      <td>0.2575</td>\n",
       "      <td>0.6638</td>\n",
       "      <td>0.17300</td>\n",
       "      <td>NaN</td>\n",
       "    </tr>\n",
       "    <tr>\n",
       "      <th>4</th>\n",
       "      <td>84358402</td>\n",
       "      <td>M</td>\n",
       "      <td>20.29</td>\n",
       "      <td>14.34</td>\n",
       "      <td>135.10</td>\n",
       "      <td>1297.0</td>\n",
       "      <td>0.10030</td>\n",
       "      <td>0.13280</td>\n",
       "      <td>0.1980</td>\n",
       "      <td>0.10430</td>\n",
       "      <td>...</td>\n",
       "      <td>16.67</td>\n",
       "      <td>152.20</td>\n",
       "      <td>1575.0</td>\n",
       "      <td>0.1374</td>\n",
       "      <td>0.2050</td>\n",
       "      <td>0.4000</td>\n",
       "      <td>0.1625</td>\n",
       "      <td>0.2364</td>\n",
       "      <td>0.07678</td>\n",
       "      <td>NaN</td>\n",
       "    </tr>\n",
       "  </tbody>\n",
       "</table>\n",
       "<p>5 rows × 33 columns</p>\n",
       "</div>"
      ],
      "text/plain": [
       "         id diagnosis  radius_mean  texture_mean  perimeter_mean  area_mean  \\\n",
       "0    842302         M        17.99         10.38          122.80     1001.0   \n",
       "1    842517         M        20.57         17.77          132.90     1326.0   \n",
       "2  84300903         M        19.69         21.25          130.00     1203.0   \n",
       "3  84348301         M        11.42         20.38           77.58      386.1   \n",
       "4  84358402         M        20.29         14.34          135.10     1297.0   \n",
       "\n",
       "   smoothness_mean  compactness_mean  concavity_mean  concave points_mean  \\\n",
       "0          0.11840           0.27760          0.3001              0.14710   \n",
       "1          0.08474           0.07864          0.0869              0.07017   \n",
       "2          0.10960           0.15990          0.1974              0.12790   \n",
       "3          0.14250           0.28390          0.2414              0.10520   \n",
       "4          0.10030           0.13280          0.1980              0.10430   \n",
       "\n",
       "   ...  texture_worst  perimeter_worst  area_worst  smoothness_worst  \\\n",
       "0  ...          17.33           184.60      2019.0            0.1622   \n",
       "1  ...          23.41           158.80      1956.0            0.1238   \n",
       "2  ...          25.53           152.50      1709.0            0.1444   \n",
       "3  ...          26.50            98.87       567.7            0.2098   \n",
       "4  ...          16.67           152.20      1575.0            0.1374   \n",
       "\n",
       "   compactness_worst  concavity_worst  concave points_worst  symmetry_worst  \\\n",
       "0             0.6656           0.7119                0.2654          0.4601   \n",
       "1             0.1866           0.2416                0.1860          0.2750   \n",
       "2             0.4245           0.4504                0.2430          0.3613   \n",
       "3             0.8663           0.6869                0.2575          0.6638   \n",
       "4             0.2050           0.4000                0.1625          0.2364   \n",
       "\n",
       "   fractal_dimension_worst  Unnamed: 32  \n",
       "0                  0.11890          NaN  \n",
       "1                  0.08902          NaN  \n",
       "2                  0.08758          NaN  \n",
       "3                  0.17300          NaN  \n",
       "4                  0.07678          NaN  \n",
       "\n",
       "[5 rows x 33 columns]"
      ]
     },
     "execution_count": 2,
     "metadata": {},
     "output_type": "execute_result"
    }
   ],
   "source": [
    "df=pd.DataFrame(data)\n",
    "df.head()\n"
   ]
  },
  {
   "cell_type": "markdown",
   "metadata": {},
   "source": [
    "# 2. Calculate mean of an attribute in your dataset"
   ]
  },
  {
   "cell_type": "code",
   "execution_count": 3,
   "metadata": {
    "colab": {
     "base_uri": "https://localhost:8080/"
    },
    "id": "yB3JZ87lKkPu",
    "outputId": "def5083a-00d2-4025-dddc-243ae534c6bc"
   },
   "outputs": [
    {
     "name": "stdout",
     "output_type": "stream",
     "text": [
      "id                         3.037183e+07\n",
      "radius_mean                1.412729e+01\n",
      "texture_mean               1.928965e+01\n",
      "perimeter_mean             9.196903e+01\n",
      "area_mean                  6.548891e+02\n",
      "smoothness_mean            9.636028e-02\n",
      "compactness_mean           1.043410e-01\n",
      "concavity_mean             8.879932e-02\n",
      "concave points_mean        4.891915e-02\n",
      "symmetry_mean              1.811619e-01\n",
      "fractal_dimension_mean     6.279761e-02\n",
      "radius_se                  4.051721e-01\n",
      "texture_se                 1.216853e+00\n",
      "perimeter_se               2.866059e+00\n",
      "area_se                    4.033708e+01\n",
      "smoothness_se              7.040979e-03\n",
      "compactness_se             2.547814e-02\n",
      "concavity_se               3.189372e-02\n",
      "concave points_se          1.179614e-02\n",
      "symmetry_se                2.054230e-02\n",
      "fractal_dimension_se       3.794904e-03\n",
      "radius_worst               1.626919e+01\n",
      "texture_worst              2.567722e+01\n",
      "perimeter_worst            1.072612e+02\n",
      "area_worst                 8.805831e+02\n",
      "smoothness_worst           1.323686e-01\n",
      "compactness_worst          2.542650e-01\n",
      "concavity_worst            2.721885e-01\n",
      "concave points_worst       1.146062e-01\n",
      "symmetry_worst             2.900756e-01\n",
      "fractal_dimension_worst    8.394582e-02\n",
      "Unnamed: 32                         NaN\n",
      "dtype: float64\n"
     ]
    },
    {
     "name": "stderr",
     "output_type": "stream",
     "text": [
      "C:\\Users\\Admin\\AppData\\Local\\Temp/ipykernel_15380/2807316344.py:1: FutureWarning: Dropping of nuisance columns in DataFrame reductions (with 'numeric_only=None') is deprecated; in a future version this will raise TypeError.  Select only valid columns before calling the reduction.\n",
      "  print(df.mean())\n"
     ]
    }
   ],
   "source": [
    "print(df.mean())"
   ]
  },
  {
   "cell_type": "code",
   "execution_count": 4,
   "metadata": {},
   "outputs": [
    {
     "data": {
      "text/plain": [
       "19.28964850615117"
      ]
     },
     "execution_count": 4,
     "metadata": {},
     "output_type": "execute_result"
    }
   ],
   "source": [
    "df['texture_mean'].mean()"
   ]
  },
  {
   "cell_type": "markdown",
   "metadata": {},
   "source": [
    "# Calculate median of an attribute in your dataset"
   ]
  },
  {
   "cell_type": "code",
   "execution_count": 5,
   "metadata": {
    "colab": {
     "base_uri": "https://localhost:8080/"
    },
    "id": "CD5Z1Kt4KlRF",
    "outputId": "f2f166a4-da08-4224-e310-1f4792c33e99"
   },
   "outputs": [
    {
     "name": "stdout",
     "output_type": "stream",
     "text": [
      "id                         906024.000000\n",
      "radius_mean                    13.370000\n",
      "texture_mean                   18.840000\n",
      "perimeter_mean                 86.240000\n",
      "area_mean                     551.100000\n",
      "smoothness_mean                 0.095870\n",
      "compactness_mean                0.092630\n",
      "concavity_mean                  0.061540\n",
      "concave points_mean             0.033500\n",
      "symmetry_mean                   0.179200\n",
      "fractal_dimension_mean          0.061540\n",
      "radius_se                       0.324200\n",
      "texture_se                      1.108000\n",
      "perimeter_se                    2.287000\n",
      "area_se                        24.530000\n",
      "smoothness_se                   0.006380\n",
      "compactness_se                  0.020450\n",
      "concavity_se                    0.025890\n",
      "concave points_se               0.010930\n",
      "symmetry_se                     0.018730\n",
      "fractal_dimension_se            0.003187\n",
      "radius_worst                   14.970000\n",
      "texture_worst                  25.410000\n",
      "perimeter_worst                97.660000\n",
      "area_worst                    686.500000\n",
      "smoothness_worst                0.131300\n",
      "compactness_worst               0.211900\n",
      "concavity_worst                 0.226700\n",
      "concave points_worst            0.099930\n",
      "symmetry_worst                  0.282200\n",
      "fractal_dimension_worst         0.080040\n",
      "Unnamed: 32                          NaN\n",
      "dtype: float64\n"
     ]
    },
    {
     "name": "stderr",
     "output_type": "stream",
     "text": [
      "C:\\Users\\Admin\\AppData\\Local\\Temp/ipykernel_15380/4259369830.py:1: FutureWarning: Dropping of nuisance columns in DataFrame reductions (with 'numeric_only=None') is deprecated; in a future version this will raise TypeError.  Select only valid columns before calling the reduction.\n",
      "  print(df.median())\n"
     ]
    }
   ],
   "source": [
    "print(df.median())"
   ]
  },
  {
   "cell_type": "code",
   "execution_count": 6,
   "metadata": {},
   "outputs": [
    {
     "data": {
      "text/plain": [
       "18.84"
      ]
     },
     "execution_count": 6,
     "metadata": {},
     "output_type": "execute_result"
    }
   ],
   "source": [
    "df['texture_mean'].median()"
   ]
  },
  {
   "cell_type": "markdown",
   "metadata": {},
   "source": [
    "# Calculate mode of an attribute in your dataset"
   ]
  },
  {
   "cell_type": "code",
   "execution_count": 7,
   "metadata": {
    "colab": {
     "base_uri": "https://localhost:8080/"
    },
    "id": "D32nnBr0KtXg",
    "outputId": "fe39c75f-d319-43f3-9c20-9b246062d7f8"
   },
   "outputs": [
    {
     "name": "stdout",
     "output_type": "stream",
     "text": [
      "            id diagnosis  radius_mean  texture_mean  perimeter_mean  \\\n",
      "0         8670         B        12.34         14.93           82.61   \n",
      "1         8913       NaN          NaN         15.70           87.76   \n",
      "2         8915       NaN          NaN         16.84          134.70   \n",
      "3         9047       NaN          NaN         16.85             NaN   \n",
      "4        85715       NaN          NaN         17.46             NaN   \n",
      "..         ...       ...          ...           ...             ...   \n",
      "564  911157302       NaN          NaN           NaN             NaN   \n",
      "565  911296201       NaN          NaN           NaN             NaN   \n",
      "566  911296202       NaN          NaN           NaN             NaN   \n",
      "567  911320501       NaN          NaN           NaN             NaN   \n",
      "568  911320502       NaN          NaN           NaN             NaN   \n",
      "\n",
      "     area_mean  smoothness_mean  compactness_mean  concavity_mean  \\\n",
      "0        512.2           0.1007            0.1147             0.0   \n",
      "1          NaN              NaN            0.1206             NaN   \n",
      "2          NaN              NaN               NaN             NaN   \n",
      "3          NaN              NaN               NaN             NaN   \n",
      "4          NaN              NaN               NaN             NaN   \n",
      "..         ...              ...               ...             ...   \n",
      "564        NaN              NaN               NaN             NaN   \n",
      "565        NaN              NaN               NaN             NaN   \n",
      "566        NaN              NaN               NaN             NaN   \n",
      "567        NaN              NaN               NaN             NaN   \n",
      "568        NaN              NaN               NaN             NaN   \n",
      "\n",
      "     concave points_mean  ...  texture_worst  perimeter_worst  area_worst  \\\n",
      "0                    0.0  ...          17.70            101.7       284.4   \n",
      "1                    NaN  ...          27.26            105.9       402.8   \n",
      "2                    NaN  ...            NaN            117.7       439.6   \n",
      "3                    NaN  ...            NaN              NaN       458.0   \n",
      "4                    NaN  ...            NaN              NaN       472.4   \n",
      "..                   ...  ...            ...              ...         ...   \n",
      "564                  NaN  ...            NaN              NaN         NaN   \n",
      "565                  NaN  ...            NaN              NaN         NaN   \n",
      "566                  NaN  ...            NaN              NaN         NaN   \n",
      "567                  NaN  ...            NaN              NaN         NaN   \n",
      "568                  NaN  ...            NaN              NaN         NaN   \n",
      "\n",
      "     smoothness_worst  compactness_worst  concavity_worst  \\\n",
      "0              0.1216             0.1486              0.0   \n",
      "1              0.1223             0.3416              NaN   \n",
      "2              0.1234                NaN              NaN   \n",
      "3              0.1256                NaN              NaN   \n",
      "4              0.1275                NaN              NaN   \n",
      "..                ...                ...              ...   \n",
      "564               NaN                NaN              NaN   \n",
      "565               NaN                NaN              NaN   \n",
      "566               NaN                NaN              NaN   \n",
      "567               NaN                NaN              NaN   \n",
      "568               NaN                NaN              NaN   \n",
      "\n",
      "     concave points_worst  symmetry_worst  fractal_dimension_worst  \\\n",
      "0                     0.0          0.2226                  0.07427   \n",
      "1                     NaN          0.2369                      NaN   \n",
      "2                     NaN          0.2383                      NaN   \n",
      "3                     NaN          0.2972                      NaN   \n",
      "4                     NaN          0.3109                      NaN   \n",
      "..                    ...             ...                      ...   \n",
      "564                   NaN             NaN                      NaN   \n",
      "565                   NaN             NaN                      NaN   \n",
      "566                   NaN             NaN                      NaN   \n",
      "567                   NaN             NaN                      NaN   \n",
      "568                   NaN             NaN                      NaN   \n",
      "\n",
      "     Unnamed: 32  \n",
      "0            NaN  \n",
      "1            NaN  \n",
      "2            NaN  \n",
      "3            NaN  \n",
      "4            NaN  \n",
      "..           ...  \n",
      "564          NaN  \n",
      "565          NaN  \n",
      "566          NaN  \n",
      "567          NaN  \n",
      "568          NaN  \n",
      "\n",
      "[569 rows x 33 columns]\n"
     ]
    }
   ],
   "source": [
    "print(df.mode())"
   ]
  },
  {
   "cell_type": "code",
   "execution_count": 8,
   "metadata": {},
   "outputs": [
    {
     "data": {
      "text/plain": [
       "0    14.93\n",
       "1    15.70\n",
       "2    16.84\n",
       "3    16.85\n",
       "4    17.46\n",
       "5    18.22\n",
       "6    18.90\n",
       "7    19.83\n",
       "8    20.52\n",
       "dtype: float64"
      ]
     },
     "execution_count": 8,
     "metadata": {},
     "output_type": "execute_result"
    }
   ],
   "source": [
    "df['texture_mean'].mode()"
   ]
  },
  {
   "cell_type": "markdown",
   "metadata": {},
   "source": [
    "# Calculate range of an attribute in your dataset"
   ]
  },
  {
   "cell_type": "code",
   "execution_count": 9,
   "metadata": {
    "colab": {
     "base_uri": "https://localhost:8080/",
     "height": 505
    },
    "id": "lAjrJQ2xLJg1",
    "outputId": "d8009d90-a23b-4ae8-e4f3-2e68c0325300"
   },
   "outputs": [
    {
     "data": {
      "text/html": [
       "<div>\n",
       "<style scoped>\n",
       "    .dataframe tbody tr th:only-of-type {\n",
       "        vertical-align: middle;\n",
       "    }\n",
       "\n",
       "    .dataframe tbody tr th {\n",
       "        vertical-align: top;\n",
       "    }\n",
       "\n",
       "    .dataframe thead th {\n",
       "        text-align: right;\n",
       "    }\n",
       "</style>\n",
       "<table border=\"1\" class=\"dataframe\">\n",
       "  <thead>\n",
       "    <tr style=\"text-align: right;\">\n",
       "      <th></th>\n",
       "      <th>id</th>\n",
       "      <th>radius_mean</th>\n",
       "      <th>texture_mean</th>\n",
       "      <th>perimeter_mean</th>\n",
       "      <th>area_mean</th>\n",
       "      <th>smoothness_mean</th>\n",
       "      <th>compactness_mean</th>\n",
       "      <th>concavity_mean</th>\n",
       "      <th>concave points_mean</th>\n",
       "      <th>symmetry_mean</th>\n",
       "      <th>...</th>\n",
       "      <th>radius_worst</th>\n",
       "      <th>texture_worst</th>\n",
       "      <th>perimeter_worst</th>\n",
       "      <th>area_worst</th>\n",
       "      <th>smoothness_worst</th>\n",
       "      <th>compactness_worst</th>\n",
       "      <th>concavity_worst</th>\n",
       "      <th>concave points_worst</th>\n",
       "      <th>symmetry_worst</th>\n",
       "      <th>fractal_dimension_worst</th>\n",
       "    </tr>\n",
       "  </thead>\n",
       "  <tbody>\n",
       "    <tr>\n",
       "      <th>0</th>\n",
       "      <td>842302</td>\n",
       "      <td>17.99</td>\n",
       "      <td>10.38</td>\n",
       "      <td>122.80</td>\n",
       "      <td>1001.0</td>\n",
       "      <td>0.11840</td>\n",
       "      <td>0.27760</td>\n",
       "      <td>0.30010</td>\n",
       "      <td>0.14710</td>\n",
       "      <td>0.2419</td>\n",
       "      <td>...</td>\n",
       "      <td>25.380</td>\n",
       "      <td>17.33</td>\n",
       "      <td>184.60</td>\n",
       "      <td>2019.0</td>\n",
       "      <td>0.16220</td>\n",
       "      <td>0.66560</td>\n",
       "      <td>0.7119</td>\n",
       "      <td>0.2654</td>\n",
       "      <td>0.4601</td>\n",
       "      <td>0.11890</td>\n",
       "    </tr>\n",
       "    <tr>\n",
       "      <th>1</th>\n",
       "      <td>842517</td>\n",
       "      <td>20.57</td>\n",
       "      <td>17.77</td>\n",
       "      <td>132.90</td>\n",
       "      <td>1326.0</td>\n",
       "      <td>0.08474</td>\n",
       "      <td>0.07864</td>\n",
       "      <td>0.08690</td>\n",
       "      <td>0.07017</td>\n",
       "      <td>0.1812</td>\n",
       "      <td>...</td>\n",
       "      <td>24.990</td>\n",
       "      <td>23.41</td>\n",
       "      <td>158.80</td>\n",
       "      <td>1956.0</td>\n",
       "      <td>0.12380</td>\n",
       "      <td>0.18660</td>\n",
       "      <td>0.2416</td>\n",
       "      <td>0.1860</td>\n",
       "      <td>0.2750</td>\n",
       "      <td>0.08902</td>\n",
       "    </tr>\n",
       "    <tr>\n",
       "      <th>2</th>\n",
       "      <td>84300903</td>\n",
       "      <td>19.69</td>\n",
       "      <td>21.25</td>\n",
       "      <td>130.00</td>\n",
       "      <td>1203.0</td>\n",
       "      <td>0.10960</td>\n",
       "      <td>0.15990</td>\n",
       "      <td>0.19740</td>\n",
       "      <td>0.12790</td>\n",
       "      <td>0.2069</td>\n",
       "      <td>...</td>\n",
       "      <td>23.570</td>\n",
       "      <td>25.53</td>\n",
       "      <td>152.50</td>\n",
       "      <td>1709.0</td>\n",
       "      <td>0.14440</td>\n",
       "      <td>0.42450</td>\n",
       "      <td>0.4504</td>\n",
       "      <td>0.2430</td>\n",
       "      <td>0.3613</td>\n",
       "      <td>0.08758</td>\n",
       "    </tr>\n",
       "    <tr>\n",
       "      <th>3</th>\n",
       "      <td>84348301</td>\n",
       "      <td>11.42</td>\n",
       "      <td>20.38</td>\n",
       "      <td>77.58</td>\n",
       "      <td>386.1</td>\n",
       "      <td>0.14250</td>\n",
       "      <td>0.28390</td>\n",
       "      <td>0.24140</td>\n",
       "      <td>0.10520</td>\n",
       "      <td>0.2597</td>\n",
       "      <td>...</td>\n",
       "      <td>14.910</td>\n",
       "      <td>26.50</td>\n",
       "      <td>98.87</td>\n",
       "      <td>567.7</td>\n",
       "      <td>0.20980</td>\n",
       "      <td>0.86630</td>\n",
       "      <td>0.6869</td>\n",
       "      <td>0.2575</td>\n",
       "      <td>0.6638</td>\n",
       "      <td>0.17300</td>\n",
       "    </tr>\n",
       "    <tr>\n",
       "      <th>4</th>\n",
       "      <td>84358402</td>\n",
       "      <td>20.29</td>\n",
       "      <td>14.34</td>\n",
       "      <td>135.10</td>\n",
       "      <td>1297.0</td>\n",
       "      <td>0.10030</td>\n",
       "      <td>0.13280</td>\n",
       "      <td>0.19800</td>\n",
       "      <td>0.10430</td>\n",
       "      <td>0.1809</td>\n",
       "      <td>...</td>\n",
       "      <td>22.540</td>\n",
       "      <td>16.67</td>\n",
       "      <td>152.20</td>\n",
       "      <td>1575.0</td>\n",
       "      <td>0.13740</td>\n",
       "      <td>0.20500</td>\n",
       "      <td>0.4000</td>\n",
       "      <td>0.1625</td>\n",
       "      <td>0.2364</td>\n",
       "      <td>0.07678</td>\n",
       "    </tr>\n",
       "    <tr>\n",
       "      <th>...</th>\n",
       "      <td>...</td>\n",
       "      <td>...</td>\n",
       "      <td>...</td>\n",
       "      <td>...</td>\n",
       "      <td>...</td>\n",
       "      <td>...</td>\n",
       "      <td>...</td>\n",
       "      <td>...</td>\n",
       "      <td>...</td>\n",
       "      <td>...</td>\n",
       "      <td>...</td>\n",
       "      <td>...</td>\n",
       "      <td>...</td>\n",
       "      <td>...</td>\n",
       "      <td>...</td>\n",
       "      <td>...</td>\n",
       "      <td>...</td>\n",
       "      <td>...</td>\n",
       "      <td>...</td>\n",
       "      <td>...</td>\n",
       "      <td>...</td>\n",
       "    </tr>\n",
       "    <tr>\n",
       "      <th>564</th>\n",
       "      <td>926424</td>\n",
       "      <td>21.56</td>\n",
       "      <td>22.39</td>\n",
       "      <td>142.00</td>\n",
       "      <td>1479.0</td>\n",
       "      <td>0.11100</td>\n",
       "      <td>0.11590</td>\n",
       "      <td>0.24390</td>\n",
       "      <td>0.13890</td>\n",
       "      <td>0.1726</td>\n",
       "      <td>...</td>\n",
       "      <td>25.450</td>\n",
       "      <td>26.40</td>\n",
       "      <td>166.10</td>\n",
       "      <td>2027.0</td>\n",
       "      <td>0.14100</td>\n",
       "      <td>0.21130</td>\n",
       "      <td>0.4107</td>\n",
       "      <td>0.2216</td>\n",
       "      <td>0.2060</td>\n",
       "      <td>0.07115</td>\n",
       "    </tr>\n",
       "    <tr>\n",
       "      <th>565</th>\n",
       "      <td>926682</td>\n",
       "      <td>20.13</td>\n",
       "      <td>28.25</td>\n",
       "      <td>131.20</td>\n",
       "      <td>1261.0</td>\n",
       "      <td>0.09780</td>\n",
       "      <td>0.10340</td>\n",
       "      <td>0.14400</td>\n",
       "      <td>0.09791</td>\n",
       "      <td>0.1752</td>\n",
       "      <td>...</td>\n",
       "      <td>23.690</td>\n",
       "      <td>38.25</td>\n",
       "      <td>155.00</td>\n",
       "      <td>1731.0</td>\n",
       "      <td>0.11660</td>\n",
       "      <td>0.19220</td>\n",
       "      <td>0.3215</td>\n",
       "      <td>0.1628</td>\n",
       "      <td>0.2572</td>\n",
       "      <td>0.06637</td>\n",
       "    </tr>\n",
       "    <tr>\n",
       "      <th>566</th>\n",
       "      <td>926954</td>\n",
       "      <td>16.60</td>\n",
       "      <td>28.08</td>\n",
       "      <td>108.30</td>\n",
       "      <td>858.1</td>\n",
       "      <td>0.08455</td>\n",
       "      <td>0.10230</td>\n",
       "      <td>0.09251</td>\n",
       "      <td>0.05302</td>\n",
       "      <td>0.1590</td>\n",
       "      <td>...</td>\n",
       "      <td>18.980</td>\n",
       "      <td>34.12</td>\n",
       "      <td>126.70</td>\n",
       "      <td>1124.0</td>\n",
       "      <td>0.11390</td>\n",
       "      <td>0.30940</td>\n",
       "      <td>0.3403</td>\n",
       "      <td>0.1418</td>\n",
       "      <td>0.2218</td>\n",
       "      <td>0.07820</td>\n",
       "    </tr>\n",
       "    <tr>\n",
       "      <th>567</th>\n",
       "      <td>927241</td>\n",
       "      <td>20.60</td>\n",
       "      <td>29.33</td>\n",
       "      <td>140.10</td>\n",
       "      <td>1265.0</td>\n",
       "      <td>0.11780</td>\n",
       "      <td>0.27700</td>\n",
       "      <td>0.35140</td>\n",
       "      <td>0.15200</td>\n",
       "      <td>0.2397</td>\n",
       "      <td>...</td>\n",
       "      <td>25.740</td>\n",
       "      <td>39.42</td>\n",
       "      <td>184.60</td>\n",
       "      <td>1821.0</td>\n",
       "      <td>0.16500</td>\n",
       "      <td>0.86810</td>\n",
       "      <td>0.9387</td>\n",
       "      <td>0.2650</td>\n",
       "      <td>0.4087</td>\n",
       "      <td>0.12400</td>\n",
       "    </tr>\n",
       "    <tr>\n",
       "      <th>568</th>\n",
       "      <td>92751</td>\n",
       "      <td>7.76</td>\n",
       "      <td>24.54</td>\n",
       "      <td>47.92</td>\n",
       "      <td>181.0</td>\n",
       "      <td>0.05263</td>\n",
       "      <td>0.04362</td>\n",
       "      <td>0.00000</td>\n",
       "      <td>0.00000</td>\n",
       "      <td>0.1587</td>\n",
       "      <td>...</td>\n",
       "      <td>9.456</td>\n",
       "      <td>30.37</td>\n",
       "      <td>59.16</td>\n",
       "      <td>268.6</td>\n",
       "      <td>0.08996</td>\n",
       "      <td>0.06444</td>\n",
       "      <td>0.0000</td>\n",
       "      <td>0.0000</td>\n",
       "      <td>0.2871</td>\n",
       "      <td>0.07039</td>\n",
       "    </tr>\n",
       "  </tbody>\n",
       "</table>\n",
       "<p>569 rows × 31 columns</p>\n",
       "</div>"
      ],
      "text/plain": [
       "           id  radius_mean  texture_mean  perimeter_mean  area_mean  \\\n",
       "0      842302        17.99         10.38          122.80     1001.0   \n",
       "1      842517        20.57         17.77          132.90     1326.0   \n",
       "2    84300903        19.69         21.25          130.00     1203.0   \n",
       "3    84348301        11.42         20.38           77.58      386.1   \n",
       "4    84358402        20.29         14.34          135.10     1297.0   \n",
       "..        ...          ...           ...             ...        ...   \n",
       "564    926424        21.56         22.39          142.00     1479.0   \n",
       "565    926682        20.13         28.25          131.20     1261.0   \n",
       "566    926954        16.60         28.08          108.30      858.1   \n",
       "567    927241        20.60         29.33          140.10     1265.0   \n",
       "568     92751         7.76         24.54           47.92      181.0   \n",
       "\n",
       "     smoothness_mean  compactness_mean  concavity_mean  concave points_mean  \\\n",
       "0            0.11840           0.27760         0.30010              0.14710   \n",
       "1            0.08474           0.07864         0.08690              0.07017   \n",
       "2            0.10960           0.15990         0.19740              0.12790   \n",
       "3            0.14250           0.28390         0.24140              0.10520   \n",
       "4            0.10030           0.13280         0.19800              0.10430   \n",
       "..               ...               ...             ...                  ...   \n",
       "564          0.11100           0.11590         0.24390              0.13890   \n",
       "565          0.09780           0.10340         0.14400              0.09791   \n",
       "566          0.08455           0.10230         0.09251              0.05302   \n",
       "567          0.11780           0.27700         0.35140              0.15200   \n",
       "568          0.05263           0.04362         0.00000              0.00000   \n",
       "\n",
       "     symmetry_mean  ...  radius_worst  texture_worst  perimeter_worst  \\\n",
       "0           0.2419  ...        25.380          17.33           184.60   \n",
       "1           0.1812  ...        24.990          23.41           158.80   \n",
       "2           0.2069  ...        23.570          25.53           152.50   \n",
       "3           0.2597  ...        14.910          26.50            98.87   \n",
       "4           0.1809  ...        22.540          16.67           152.20   \n",
       "..             ...  ...           ...            ...              ...   \n",
       "564         0.1726  ...        25.450          26.40           166.10   \n",
       "565         0.1752  ...        23.690          38.25           155.00   \n",
       "566         0.1590  ...        18.980          34.12           126.70   \n",
       "567         0.2397  ...        25.740          39.42           184.60   \n",
       "568         0.1587  ...         9.456          30.37            59.16   \n",
       "\n",
       "     area_worst  smoothness_worst  compactness_worst  concavity_worst  \\\n",
       "0        2019.0           0.16220            0.66560           0.7119   \n",
       "1        1956.0           0.12380            0.18660           0.2416   \n",
       "2        1709.0           0.14440            0.42450           0.4504   \n",
       "3         567.7           0.20980            0.86630           0.6869   \n",
       "4        1575.0           0.13740            0.20500           0.4000   \n",
       "..          ...               ...                ...              ...   \n",
       "564      2027.0           0.14100            0.21130           0.4107   \n",
       "565      1731.0           0.11660            0.19220           0.3215   \n",
       "566      1124.0           0.11390            0.30940           0.3403   \n",
       "567      1821.0           0.16500            0.86810           0.9387   \n",
       "568       268.6           0.08996            0.06444           0.0000   \n",
       "\n",
       "     concave points_worst  symmetry_worst  fractal_dimension_worst  \n",
       "0                  0.2654          0.4601                  0.11890  \n",
       "1                  0.1860          0.2750                  0.08902  \n",
       "2                  0.2430          0.3613                  0.08758  \n",
       "3                  0.2575          0.6638                  0.17300  \n",
       "4                  0.1625          0.2364                  0.07678  \n",
       "..                    ...             ...                      ...  \n",
       "564                0.2216          0.2060                  0.07115  \n",
       "565                0.1628          0.2572                  0.06637  \n",
       "566                0.1418          0.2218                  0.07820  \n",
       "567                0.2650          0.4087                  0.12400  \n",
       "568                0.0000          0.2871                  0.07039  \n",
       "\n",
       "[569 rows x 31 columns]"
      ]
     },
     "execution_count": 9,
     "metadata": {},
     "output_type": "execute_result"
    }
   ],
   "source": [
    "df1=df.drop(['diagnosis','Unnamed: 32'],axis=1)\n",
    "df1"
   ]
  },
  {
   "cell_type": "code",
   "execution_count": 10,
   "metadata": {
    "colab": {
     "base_uri": "https://localhost:8080/"
    },
    "id": "U5ny4zdsMk69",
    "outputId": "487495a3-08d8-45fd-d581-e8e5e3fa7f9a"
   },
   "outputs": [
    {
     "data": {
      "text/plain": [
       "id                         9.113118e+08\n",
       "radius_mean                2.112900e+01\n",
       "texture_mean               2.957000e+01\n",
       "perimeter_mean             1.447100e+02\n",
       "area_mean                  2.357500e+03\n",
       "smoothness_mean            1.107700e-01\n",
       "compactness_mean           3.260200e-01\n",
       "concavity_mean             4.268000e-01\n",
       "concave points_mean        2.012000e-01\n",
       "symmetry_mean              1.980000e-01\n",
       "fractal_dimension_mean     4.748000e-02\n",
       "radius_se                  2.761500e+00\n",
       "texture_se                 4.524800e+00\n",
       "perimeter_se               2.122300e+01\n",
       "area_se                    5.353980e+02\n",
       "smoothness_se              2.941700e-02\n",
       "compactness_se             1.331480e-01\n",
       "concavity_se               3.960000e-01\n",
       "concave points_se          5.279000e-02\n",
       "symmetry_se                7.106800e-02\n",
       "fractal_dimension_se       2.894520e-02\n",
       "radius_worst               2.811000e+01\n",
       "texture_worst              3.752000e+01\n",
       "perimeter_worst            2.007900e+02\n",
       "area_worst                 4.068800e+03\n",
       "smoothness_worst           1.514300e-01\n",
       "compactness_worst          1.030710e+00\n",
       "concavity_worst            1.252000e+00\n",
       "concave points_worst       2.910000e-01\n",
       "symmetry_worst             5.073000e-01\n",
       "fractal_dimension_worst    1.524600e-01\n",
       "dtype: float64"
      ]
     },
     "execution_count": 10,
     "metadata": {},
     "output_type": "execute_result"
    }
   ],
   "source": [
    "range=df1.max()-df1.min()\n",
    "range"
   ]
  },
  {
   "cell_type": "code",
   "execution_count": 11,
   "metadata": {},
   "outputs": [
    {
     "data": {
      "text/plain": [
       "[9.71, 39.28]"
      ]
     },
     "execution_count": 11,
     "metadata": {},
     "output_type": "execute_result"
    }
   ],
   "source": [
    "range=[]\n",
    "range.append(df['texture_mean'].min())\n",
    "range.append(df['texture_mean'].max())\n",
    "range"
   ]
  },
  {
   "cell_type": "markdown",
   "metadata": {},
   "source": [
    "# Calculate midrange of an attribute in your dataset"
   ]
  },
  {
   "cell_type": "code",
   "execution_count": 12,
   "metadata": {
    "colab": {
     "base_uri": "https://localhost:8080/"
    },
    "id": "dfLa0vyGM9Om",
    "outputId": "1cb06232-b19e-4f4c-fca0-ff077d23082f"
   },
   "outputs": [
    {
     "name": "stdout",
     "output_type": "stream",
     "text": [
      "id                         4.556559e+08\n",
      "radius_mean                1.056450e+01\n",
      "texture_mean               1.478500e+01\n",
      "perimeter_mean             7.235500e+01\n",
      "area_mean                  1.178750e+03\n",
      "smoothness_mean            5.538500e-02\n",
      "compactness_mean           1.630100e-01\n",
      "concavity_mean             2.134000e-01\n",
      "concave points_mean        1.006000e-01\n",
      "symmetry_mean              9.900000e-02\n",
      "fractal_dimension_mean     2.374000e-02\n",
      "radius_se                  1.380750e+00\n",
      "texture_se                 2.262400e+00\n",
      "perimeter_se               1.061150e+01\n",
      "area_se                    2.676990e+02\n",
      "smoothness_se              1.470850e-02\n",
      "compactness_se             6.657400e-02\n",
      "concavity_se               1.980000e-01\n",
      "concave points_se          2.639500e-02\n",
      "symmetry_se                3.553400e-02\n",
      "fractal_dimension_se       1.447260e-02\n",
      "radius_worst               1.405500e+01\n",
      "texture_worst              1.876000e+01\n",
      "perimeter_worst            1.003950e+02\n",
      "area_worst                 2.034400e+03\n",
      "smoothness_worst           7.571500e-02\n",
      "compactness_worst          5.153550e-01\n",
      "concavity_worst            6.260000e-01\n",
      "concave points_worst       1.455000e-01\n",
      "symmetry_worst             2.536500e-01\n",
      "fractal_dimension_worst    7.623000e-02\n",
      "dtype: float64\n"
     ]
    }
   ],
   "source": [
    "range=df1.max()-df1.min()\n",
    "midrange=range/2\n",
    "print(midrange)"
   ]
  },
  {
   "cell_type": "code",
   "execution_count": 13,
   "metadata": {},
   "outputs": [
    {
     "name": "stdout",
     "output_type": "stream",
     "text": [
      "455659644.7214191\n"
     ]
    }
   ],
   "source": [
    "range=np.array(range)\n",
    "print(np.sum(range)/2)"
   ]
  },
  {
   "cell_type": "markdown",
   "metadata": {},
   "source": [
    "# Calculate variance of an attribute in your dataset"
   ]
  },
  {
   "cell_type": "code",
   "execution_count": 14,
   "metadata": {},
   "outputs": [
    {
     "name": "stdout",
     "output_type": "stream",
     "text": [
      "id                         1.563015e+16\n",
      "radius_mean                1.241892e+01\n",
      "texture_mean               1.849891e+01\n",
      "perimeter_mean             5.904405e+02\n",
      "area_mean                  1.238436e+05\n",
      "smoothness_mean            1.977997e-04\n",
      "compactness_mean           2.789187e-03\n",
      "concavity_mean             6.355248e-03\n",
      "concave points_mean        1.505661e-03\n",
      "symmetry_mean              7.515428e-04\n",
      "fractal_dimension_mean     4.984872e-05\n",
      "radius_se                  7.690235e-02\n",
      "texture_se                 3.043159e-01\n",
      "perimeter_se               4.087896e+00\n",
      "area_se                    2.069432e+03\n",
      "smoothness_se              9.015114e-06\n",
      "compactness_se             3.207029e-04\n",
      "concavity_se               9.111982e-04\n",
      "concave points_se          3.807242e-05\n",
      "symmetry_se                6.833290e-05\n",
      "fractal_dimension_se       7.001692e-06\n",
      "radius_worst               2.336022e+01\n",
      "texture_worst              3.777648e+01\n",
      "perimeter_worst            1.129131e+03\n",
      "area_worst                 3.241674e+05\n",
      "smoothness_worst           5.213198e-04\n",
      "compactness_worst          2.475477e-02\n",
      "concavity_worst            4.352409e-02\n",
      "concave points_worst       4.320741e-03\n",
      "symmetry_worst             3.827584e-03\n",
      "fractal_dimension_worst    3.262094e-04\n",
      "Unnamed: 32                         NaN\n",
      "dtype: float64\n"
     ]
    },
    {
     "name": "stderr",
     "output_type": "stream",
     "text": [
      "C:\\Users\\Admin\\AppData\\Local\\Temp/ipykernel_15380/3289682310.py:1: FutureWarning: Dropping of nuisance columns in DataFrame reductions (with 'numeric_only=None') is deprecated; in a future version this will raise TypeError.  Select only valid columns before calling the reduction.\n",
      "  variance=df.var()\n"
     ]
    }
   ],
   "source": [
    "variance=df.var()\n",
    "print(variance)"
   ]
  },
  {
   "cell_type": "code",
   "execution_count": 15,
   "metadata": {},
   "outputs": [
    {
     "data": {
      "text/plain": [
       "18.49890867905146"
      ]
     },
     "execution_count": 15,
     "metadata": {},
     "output_type": "execute_result"
    }
   ],
   "source": [
    "df['texture_mean'].var()"
   ]
  },
  {
   "cell_type": "markdown",
   "metadata": {},
   "source": [
    "# Calculate standard deviation of an attribute in your dataset"
   ]
  },
  {
   "cell_type": "code",
   "execution_count": 16,
   "metadata": {
    "colab": {
     "base_uri": "https://localhost:8080/"
    },
    "id": "0m7IKKsSOLZe",
    "outputId": "31c38a7b-fd04-45c6-faa5-a188bc576a8e"
   },
   "outputs": [
    {
     "name": "stdout",
     "output_type": "stream",
     "text": [
      "id                         1.250206e+08\n",
      "radius_mean                3.524049e+00\n",
      "texture_mean               4.301036e+00\n",
      "perimeter_mean             2.429898e+01\n",
      "area_mean                  3.519141e+02\n",
      "smoothness_mean            1.406413e-02\n",
      "compactness_mean           5.281276e-02\n",
      "concavity_mean             7.971981e-02\n",
      "concave points_mean        3.880284e-02\n",
      "symmetry_mean              2.741428e-02\n",
      "fractal_dimension_mean     7.060363e-03\n",
      "radius_se                  2.773127e-01\n",
      "texture_se                 5.516484e-01\n",
      "perimeter_se               2.021855e+00\n",
      "area_se                    4.549101e+01\n",
      "smoothness_se              3.002518e-03\n",
      "compactness_se             1.790818e-02\n",
      "concavity_se               3.018606e-02\n",
      "concave points_se          6.170285e-03\n",
      "symmetry_se                8.266372e-03\n",
      "fractal_dimension_se       2.646071e-03\n",
      "radius_worst               4.833242e+00\n",
      "texture_worst              6.146258e+00\n",
      "perimeter_worst            3.360254e+01\n",
      "area_worst                 5.693570e+02\n",
      "smoothness_worst           2.283243e-02\n",
      "compactness_worst          1.573365e-01\n",
      "concavity_worst            2.086243e-01\n",
      "concave points_worst       6.573234e-02\n",
      "symmetry_worst             6.186747e-02\n",
      "fractal_dimension_worst    1.806127e-02\n",
      "Unnamed: 32                         NaN\n",
      "dtype: float64\n"
     ]
    },
    {
     "name": "stderr",
     "output_type": "stream",
     "text": [
      "C:\\Users\\Admin\\AppData\\Local\\Temp/ipykernel_15380/3622268944.py:1: FutureWarning: Dropping of nuisance columns in DataFrame reductions (with 'numeric_only=None') is deprecated; in a future version this will raise TypeError.  Select only valid columns before calling the reduction.\n",
      "  std=df.std()\n"
     ]
    }
   ],
   "source": [
    "std=df.std()\n",
    "print(std)"
   ]
  },
  {
   "cell_type": "code",
   "execution_count": 17,
   "metadata": {},
   "outputs": [
    {
     "data": {
      "text/plain": [
       "4.301035768166949"
      ]
     },
     "execution_count": 17,
     "metadata": {},
     "output_type": "execute_result"
    }
   ],
   "source": [
    "df['texture_mean'].std()"
   ]
  },
  {
   "cell_type": "markdown",
   "metadata": {},
   "source": [
    "# Calculate covariance of any two attribute in your dataset"
   ]
  },
  {
   "cell_type": "code",
   "execution_count": 18,
   "metadata": {
    "id": "kLkoSUdMOuOt"
   },
   "outputs": [],
   "source": [
    "s1=pd.Series(df['area_mean'])\n",
    "s2=pd.Series(df['concavity_mean'])"
   ]
  },
  {
   "cell_type": "code",
   "execution_count": 19,
   "metadata": {
    "colab": {
     "base_uri": "https://localhost:8080/"
    },
    "id": "YC7XU3eGQ08u",
    "outputId": "0806b1db-2a42-427f-9f84-a803de6964fd"
   },
   "outputs": [
    {
     "name": "stdout",
     "output_type": "stream",
     "text": [
      "Covariance of area_mean and concavity_mean is : 19.24492382628181\n"
     ]
    }
   ],
   "source": [
    "print(f'Covariance of area_mean and concavity_mean is : {s1.cov(s2)}')"
   ]
  },
  {
   "cell_type": "code",
   "execution_count": 20,
   "metadata": {},
   "outputs": [],
   "source": [
    "# from statistics import covariance\n",
    "# covariance(df['texture_mean'],df['concave points_mean'])"
   ]
  },
  {
   "cell_type": "markdown",
   "metadata": {},
   "source": [
    "# Calculate correlation of any two attribute in your dataset"
   ]
  },
  {
   "cell_type": "code",
   "execution_count": 21,
   "metadata": {
    "colab": {
     "base_uri": "https://localhost:8080/"
    },
    "id": "gtLKzHmGRFMP",
    "outputId": "4e45b965-9362-44c7-c641-bdfd96eb73a2"
   },
   "outputs": [
    {
     "name": "stdout",
     "output_type": "stream",
     "text": [
      "Corelation  of area_mean and concavity_mean is: 0.6859828285519112\n"
     ]
    }
   ],
   "source": [
    "print(f'Corelation  of area_mean and concavity_mean is: {s1.corr(s2)}')"
   ]
  },
  {
   "cell_type": "code",
   "execution_count": 22,
   "metadata": {},
   "outputs": [],
   "source": [
    "# from statistics import correlation\n",
    "\n",
    "\n",
    "# correlation(dataset['texture_mean'],dataset['concave points_mean'])"
   ]
  },
  {
   "cell_type": "markdown",
   "metadata": {},
   "source": [
    "# Identify numerical attribute in your dataset"
   ]
  },
  {
   "cell_type": "code",
   "execution_count": 23,
   "metadata": {
    "colab": {
     "base_uri": "https://localhost:8080/"
    },
    "id": "WF2e3pZSRmb2",
    "outputId": "675eb85d-b72b-457b-9708-4b05f2ceec45"
   },
   "outputs": [
    {
     "name": "stdout",
     "output_type": "stream",
     "text": [
      "['id', 'radius_mean', 'texture_mean', 'perimeter_mean', 'area_mean', 'smoothness_mean', 'compactness_mean', 'concavity_mean', 'concave points_mean', 'symmetry_mean', 'fractal_dimension_mean', 'radius_se', 'texture_se', 'perimeter_se', 'area_se', 'smoothness_se', 'compactness_se', 'concavity_se', 'concave points_se', 'symmetry_se', 'fractal_dimension_se', 'radius_worst', 'texture_worst', 'perimeter_worst', 'area_worst', 'smoothness_worst', 'compactness_worst', 'concavity_worst', 'concave points_worst', 'symmetry_worst', 'fractal_dimension_worst', 'Unnamed: 32']\n"
     ]
    }
   ],
   "source": [
    "numerical = df.select_dtypes(include='number').columns.tolist()\n",
    "print(numerical)"
   ]
  },
  {
   "cell_type": "markdown",
   "metadata": {
    "id": "yh9MBA9HUEGH"
   },
   "source": [
    "# Identify continuous attribute in your dataset  those in the dictionary that have the the value less than 10 can be considered as discrete and else are continuos"
   ]
  },
  {
   "cell_type": "code",
   "execution_count": 24,
   "metadata": {},
   "outputs": [
    {
     "name": "stdout",
     "output_type": "stream",
     "text": [
      "dict_keys(['id', 'radius_mean', 'texture_mean', 'perimeter_mean', 'area_mean', 'smoothness_mean', 'compactness_mean', 'concavity_mean', 'concave points_mean', 'symmetry_mean', 'fractal_dimension_mean', 'radius_se', 'texture_se', 'perimeter_se', 'area_se', 'smoothness_se', 'compactness_se', 'concavity_se', 'concave points_se', 'symmetry_se', 'fractal_dimension_se', 'radius_worst', 'texture_worst', 'perimeter_worst', 'area_worst', 'smoothness_worst', 'compactness_worst', 'concavity_worst', 'concave points_worst', 'symmetry_worst', 'fractal_dimension_worst'])\n"
     ]
    }
   ],
   "source": [
    "from sklearn.preprocessing import LabelEncoder\n",
    "df.apply(LabelEncoder().fit_transform)\n",
    "lst={}\n",
    "for i in df.columns:\n",
    "    # print(len(dataset[i].unique()))\n",
    "    lst[i]=len(df[i].unique())\n",
    "# print(lst)\n",
    "d = dict((k, v) for k, v in lst.items() if v >= 10)\n",
    "# these are the continuos data columns\n",
    "print(d.keys())"
   ]
  },
  {
   "cell_type": "markdown",
   "metadata": {},
   "source": [
    "# Identify discrete attribute in your dataset"
   ]
  },
  {
   "cell_type": "code",
   "execution_count": 25,
   "metadata": {},
   "outputs": [
    {
     "name": "stdout",
     "output_type": "stream",
     "text": [
      "dict_keys(['diagnosis', 'Unnamed: 32'])\n"
     ]
    }
   ],
   "source": [
    "e = dict((k, v) for k, v in lst.items() if v < 10)\n",
    "# these are the discrete data columns\n",
    "print(e.keys())"
   ]
  },
  {
   "cell_type": "markdown",
   "metadata": {},
   "source": [
    "# Identify ratio scaled attribute in your dataset"
   ]
  },
  {
   "cell_type": "code",
   "execution_count": 26,
   "metadata": {},
   "outputs": [
    {
     "name": "stdout",
     "output_type": "stream",
     "text": [
      "[]\n"
     ]
    }
   ],
   "source": [
    "x=np.arange(0,)\n",
    "print(x)"
   ]
  },
  {
   "cell_type": "raw",
   "metadata": {},
   "source": [
    "[0 569]"
   ]
  },
  {
   "cell_type": "markdown",
   "metadata": {},
   "source": [
    "# Identify interval scaled attribute in your dataset"
   ]
  },
  {
   "cell_type": "code",
   "execution_count": 27,
   "metadata": {},
   "outputs": [],
   "source": [
    "for i in df.columns[2:]:\n",
    "    if((df[i][1]-df[i][2])==(df[i][3]-df[i][2])):\n",
    "        print(str(i),end='')\n",
    "        print(\" is interval scaled attribute\")\n",
    "# hence we can see that there is no attribute with interval range"
   ]
  },
  {
   "cell_type": "markdown",
   "metadata": {},
   "source": [
    "# Identify categorical attribute in your dataset"
   ]
  },
  {
   "cell_type": "code",
   "execution_count": 28,
   "metadata": {},
   "outputs": [
    {
     "name": "stdout",
     "output_type": "stream",
     "text": [
      "dict_keys(['diagnosis', 'Unnamed: 32'])\n"
     ]
    }
   ],
   "source": [
    "e = dict((k, v) for k, v in lst.items() if v < 4 )\n",
    "# these are the  data columns with categorical dat\n",
    "print(e.keys())"
   ]
  },
  {
   "cell_type": "markdown",
   "metadata": {},
   "source": [
    "# Identify nominal attribute in your dataset"
   ]
  },
  {
   "cell_type": "code",
   "execution_count": 29,
   "metadata": {},
   "outputs": [
    {
     "name": "stdout",
     "output_type": "stream",
     "text": [
      "dict_keys(['diagnosis', 'Unnamed: 32'])\n"
     ]
    }
   ],
   "source": [
    "# basically these are categorical and in it there is only one \n",
    "print(e.keys())"
   ]
  },
  {
   "cell_type": "markdown",
   "metadata": {},
   "source": [
    "# Identify ordinal attribute in your dataset"
   ]
  },
  {
   "cell_type": "code",
   "execution_count": 30,
   "metadata": {},
   "outputs": [
    {
     "data": {
      "text/html": [
       "<div>\n",
       "<style scoped>\n",
       "    .dataframe tbody tr th:only-of-type {\n",
       "        vertical-align: middle;\n",
       "    }\n",
       "\n",
       "    .dataframe tbody tr th {\n",
       "        vertical-align: top;\n",
       "    }\n",
       "\n",
       "    .dataframe thead tr th {\n",
       "        text-align: left;\n",
       "    }\n",
       "</style>\n",
       "<table border=\"1\" class=\"dataframe\">\n",
       "  <thead>\n",
       "    <tr>\n",
       "      <th></th>\n",
       "      <th>1</th>\n",
       "      <th>2</th>\n",
       "      <th>3</th>\n",
       "      <th>4</th>\n",
       "      <th>5</th>\n",
       "    </tr>\n",
       "    <tr>\n",
       "      <th></th>\n",
       "      <th>good</th>\n",
       "      <th>bad</th>\n",
       "      <th>best</th>\n",
       "      <th>better</th>\n",
       "      <th>worse</th>\n",
       "    </tr>\n",
       "    <tr>\n",
       "      <th></th>\n",
       "      <th>0</th>\n",
       "      <th>1</th>\n",
       "      <th>1</th>\n",
       "      <th>1</th>\n",
       "      <th>0</th>\n",
       "    </tr>\n",
       "  </thead>\n",
       "  <tbody>\n",
       "  </tbody>\n",
       "</table>\n",
       "</div>"
      ],
      "text/plain": [
       "Empty DataFrame\n",
       "Columns: [(1, good, 0), (2, bad, 1), (3, best, 1), (4, better, 1), (5, worse, 0)]\n",
       "Index: []"
      ]
     },
     "execution_count": 30,
     "metadata": {},
     "output_type": "execute_result"
    }
   ],
   "source": [
    "# since there is no ordinal data in this dataset\n",
    "a=np.array([1,2,3,4,5])\n",
    "c=np.array(['good','bad','best','better','worse'])\n",
    "b=np.array([0,1,1,1,0])\n",
    "t=pd.DataFrame(columns=[a,c,b])\n",
    "t.head()"
   ]
  },
  {
   "cell_type": "code",
   "execution_count": 31,
   "metadata": {},
   "outputs": [
    {
     "name": "stdout",
     "output_type": "stream",
     "text": [
      "here we can observe that row 2 contains ordinal data \n",
      "but row 3 contain only nominal data\n"
     ]
    }
   ],
   "source": [
    "print(\"here we can observe that row 2 contains ordinal data \")\n",
    "print(\"but row 3 contain only nominal data\")"
   ]
  },
  {
   "cell_type": "markdown",
   "metadata": {},
   "source": [
    "# Identify binary attribute in your dataset"
   ]
  },
  {
   "cell_type": "code",
   "execution_count": 32,
   "metadata": {},
   "outputs": [
    {
     "name": "stdout",
     "output_type": "stream",
     "text": [
      "dict_keys(['diagnosis'])\n"
     ]
    }
   ],
   "source": [
    "e = dict((k, v) for k, v in lst.items() if v==2 )\n",
    "# these are the  data columns with categorical dat\n",
    "print(e.keys())"
   ]
  },
  {
   "cell_type": "markdown",
   "metadata": {},
   "source": [
    "# Calculate 5 number summary of an attribute"
   ]
  },
  {
   "cell_type": "code",
   "execution_count": 33,
   "metadata": {},
   "outputs": [
    {
     "data": {
      "text/plain": [
       "count    569.000000\n",
       "mean      14.127292\n",
       "std        3.524049\n",
       "min        6.981000\n",
       "25%       11.700000\n",
       "50%       13.370000\n",
       "75%       15.780000\n",
       "max       28.110000\n",
       "Name: radius_mean, dtype: float64"
      ]
     },
     "execution_count": 33,
     "metadata": {},
     "output_type": "execute_result"
    }
   ],
   "source": [
    "\n",
    "df['radius_mean'].describe()"
   ]
  },
  {
   "cell_type": "code",
   "execution_count": null,
   "metadata": {},
   "outputs": [],
   "source": []
  }
 ],
 "metadata": {
  "colab": {
   "name": "Cancer.ipynb",
   "provenance": []
  },
  "kernelspec": {
   "display_name": "Python 3 (ipykernel)",
   "language": "python",
   "name": "python3"
  },
  "language_info": {
   "codemirror_mode": {
    "name": "ipython",
    "version": 3
   },
   "file_extension": ".py",
   "mimetype": "text/x-python",
   "name": "python",
   "nbconvert_exporter": "python",
   "pygments_lexer": "ipython3",
   "version": "3.9.7"
  }
 },
 "nbformat": 4,
 "nbformat_minor": 1
}
