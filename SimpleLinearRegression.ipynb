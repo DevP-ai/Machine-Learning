{
  "nbformat": 4,
  "nbformat_minor": 0,
  "metadata": {
    "colab": {
      "provenance": [],
      "authorship_tag": "ABX9TyPqnVQ2ruxkw5Gql5S2lyT8",
      "include_colab_link": true
    },
    "kernelspec": {
      "name": "python3",
      "display_name": "Python 3"
    },
    "language_info": {
      "name": "python"
    }
  },
  "cells": [
    {
      "cell_type": "markdown",
      "metadata": {
        "id": "view-in-github",
        "colab_type": "text"
      },
      "source": [
        "<a href=\"https://colab.research.google.com/github/DevP-ai/Machine-Learning/blob/master/SimpleLinearRegression.ipynb\" target=\"_parent\"><img src=\"https://colab.research.google.com/assets/colab-badge.svg\" alt=\"Open In Colab\"/></a>"
      ]
    },
    {
      "cell_type": "markdown",
      "source": [
        "# Linear regression is a common method to model the relationship between a dependent variable and one or more independent variables. Linear models are developed using the parameters which are estimated from the data. Linear regression is useful in prediction and forecasting where a predictive model is fit to an observed data set of values to determine the response. Linear regression models are often fitted using the least-squares approach where the goal is to minimize the error."
      ],
      "metadata": {
        "id": "08ztoLXLFqTB"
      }
    },
    {
      "cell_type": "code",
      "execution_count": null,
      "metadata": {
        "id": "rUjmUPzgFdox"
      },
      "outputs": [],
      "source": [
        "import numpy as np\n",
        "import matplotlib.pyplot as plt\n",
        "  \n",
        "from sklearn.linear_model import LinearRegression\n",
        "from sklearn.metrics import mean_squared_error, r2_score\n"
      ]
    },
    {
      "cell_type": "code",
      "source": [
        "x=np.array([2,4,5,7,8,10,17,20,14,18,11,17,19,20])\n",
        "y=np.array([3,6,9,12,15,18,21,24,15,22,21,18,22,20])"
      ],
      "metadata": {
        "id": "m22yZvwNHVf4"
      },
      "execution_count": null,
      "outputs": []
    },
    {
      "cell_type": "code",
      "source": [
        "x_mean=np.mean(x)\n",
        "print(\"X_mean: \",x_mean)"
      ],
      "metadata": {
        "colab": {
          "base_uri": "https://localhost:8080/"
        },
        "id": "paXEHC9YHmvm",
        "outputId": "69a74999-12d8-474e-99a7-9f9f134fe2d2"
      },
      "execution_count": null,
      "outputs": [
        {
          "output_type": "stream",
          "name": "stdout",
          "text": [
            "X_mean:  12.285714285714286\n"
          ]
        }
      ]
    },
    {
      "cell_type": "code",
      "source": [
        "y_mean=np.mean(y)\n",
        "print(\"Y_mean: \",y_mean)"
      ],
      "metadata": {
        "colab": {
          "base_uri": "https://localhost:8080/"
        },
        "id": "IIdEo2gKHuFn",
        "outputId": "014a8971-d77d-40ad-d21c-5b239e0f77a1"
      },
      "execution_count": null,
      "outputs": [
        {
          "output_type": "stream",
          "name": "stdout",
          "text": [
            "Y_mean:  16.142857142857142\n"
          ]
        }
      ]
    },
    {
      "cell_type": "code",
      "source": [
        "n=np.size(x)"
      ],
      "metadata": {
        "id": "eP-j2rPkIx94"
      },
      "execution_count": null,
      "outputs": []
    },
    {
      "cell_type": "code",
      "source": [
        "Sxy=sum((x-x_mean)*(y-y_mean))\n",
        "Sxy"
      ],
      "metadata": {
        "colab": {
          "base_uri": "https://localhost:8080/"
        },
        "id": "cR3XgsnSI3-c",
        "outputId": "86e09d85-66a1-44f9-a2cb-7257d73f8dda"
      },
      "execution_count": null,
      "outputs": [
        {
          "output_type": "execute_result",
          "data": {
            "text/plain": [
              "480.42857142857144"
            ]
          },
          "metadata": {},
          "execution_count": 49
        }
      ]
    },
    {
      "cell_type": "code",
      "source": [
        "Sxx=sum(np.square((x-x_mean)))\n",
        "Sxx"
      ],
      "metadata": {
        "colab": {
          "base_uri": "https://localhost:8080/"
        },
        "id": "S6CwiPXvKtPo",
        "outputId": "f41d864d-3079-4e0e-c266-a44b6d04aea9"
      },
      "execution_count": null,
      "outputs": [
        {
          "output_type": "execute_result",
          "data": {
            "text/plain": [
              "524.8571428571429"
            ]
          },
          "metadata": {},
          "execution_count": 50
        }
      ]
    },
    {
      "cell_type": "code",
      "source": [
        "Slope=Sxy/Sxx\n",
        "print(\"Slope : \",Slope)"
      ],
      "metadata": {
        "colab": {
          "base_uri": "https://localhost:8080/"
        },
        "id": "vQchUpGxLWIu",
        "outputId": "8eb6fe6b-64aa-4f93-e33d-98fb682c2daf"
      },
      "execution_count": null,
      "outputs": [
        {
          "output_type": "stream",
          "name": "stdout",
          "text": [
            "Slope :  0.9153511159499184\n"
          ]
        }
      ]
    },
    {
      "cell_type": "code",
      "source": [
        "intercept=y_mean-Slope*x_mean\n",
        "print(\"Intercept : \",intercept)"
      ],
      "metadata": {
        "colab": {
          "base_uri": "https://localhost:8080/"
        },
        "id": "JhSyJP0bLdK-",
        "outputId": "72596bab-2ad2-497a-b990-12e35e477b30"
      },
      "execution_count": null,
      "outputs": [
        {
          "output_type": "stream",
          "name": "stdout",
          "text": [
            "Intercept :  4.897114861186717\n"
          ]
        }
      ]
    },
    {
      "cell_type": "code",
      "source": [
        "print(\"Size of X: \",n)\n",
        "print(\"Value of Sxy :\",Sxy)\n",
        "print(\"Value of Sxx :\",Sxx)\n",
        "print(\"Slope(m): \",Slope)\n",
        "print(\"Intercept(c): \",intercept)"
      ],
      "metadata": {
        "colab": {
          "base_uri": "https://localhost:8080/"
        },
        "id": "bmYY3SkJ2k8O",
        "outputId": "d48b8f22-c240-431e-b060-4c86bc84873f"
      },
      "execution_count": null,
      "outputs": [
        {
          "output_type": "stream",
          "name": "stdout",
          "text": [
            "Size of X:  14\n",
            "Value of Sxy : 480.42857142857144\n",
            "Value of Sxx : 524.8571428571429\n",
            "Slope(m):  0.9153511159499184\n",
            "Intercept(c):  4.897114861186717\n"
          ]
        }
      ]
    },
    {
      "cell_type": "code",
      "source": [
        "import matplotlib.pyplot as plt\n"
      ],
      "metadata": {
        "id": "UP_8P3Z_Lon-"
      },
      "execution_count": null,
      "outputs": []
    },
    {
      "cell_type": "code",
      "source": [
        "plt.scatter(x,y)\n",
        "plt.xlabel(\"Independent Variable\")\n",
        "plt.ylabel(\"Dependent Variable\")"
      ],
      "metadata": {
        "colab": {
          "base_uri": "https://localhost:8080/",
          "height": 300
        },
        "id": "qpGEpRTVMDsP",
        "outputId": "4ed4ce79-df9f-4ae2-aeb4-d689c7084408"
      },
      "execution_count": null,
      "outputs": [
        {
          "output_type": "execute_result",
          "data": {
            "text/plain": [
              "Text(0, 0.5, 'Dependent Variable')"
            ]
          },
          "metadata": {},
          "execution_count": 55
        },
        {
          "output_type": "display_data",
          "data": {
            "text/plain": [
              "<Figure size 432x288 with 1 Axes>"
            ],
            "image/png": "[encoded data removed]"
          },
          "metadata": {
            "needs_background": "light"
          }
        }
      ]
    },
    {
      "cell_type": "code",
      "source": [
        "y_pred=x*Slope+intercept\n",
        "plt.scatter(x,y,c='red')\n",
        "plt.plot(x,y_pred,c='green')\n",
        "plt.xlabel(\"Independent Variable\")\n",
        "plt.ylabel(\"Dependent Variable\")"
      ],
      "metadata": {
        "colab": {
          "base_uri": "https://localhost:8080/",
          "height": 300
        },
        "id": "vjuYzzgCMNPO",
        "outputId": "43b11544-5975-440f-faa4-0a29cc169e82"
      },
      "execution_count": null,
      "outputs": [
        {
          "output_type": "execute_result",
          "data": {
            "text/plain": [
              "Text(0, 0.5, 'Dependent Variable')"
            ]
          },
          "metadata": {},
          "execution_count": 56
        },
        {
          "output_type": "display_data",
          "data": {
            "text/plain": [
              "<Figure size 432x288 with 1 Axes>"
            ],
            "image/png": "[encoded data removed]"
          },
          "metadata": {
            "needs_background": "light"
          }
        }
      ]
    },
    {
      "cell_type": "code",
      "source": [
        "#Analyze the performance of the model by calculating mean squared error and R2\n",
        "\n",
        "error=y-y_pred\n",
        "se=np.sum(error**2)\n",
        "print(\"Squared Error: \",se)"
      ],
      "metadata": {
        "colab": {
          "base_uri": "https://localhost:8080/"
        },
        "id": "W6viU6uRMyf7",
        "outputId": "093c8217-56da-400f-80c3-87399cbf1157"
      },
      "execution_count": null,
      "outputs": [
        {
          "output_type": "stream",
          "name": "stdout",
          "text": [
            "Squared Error:  105.95345672291779\n"
          ]
        }
      ]
    },
    {
      "cell_type": "code",
      "source": [
        "mse=se/n\n",
        "print(\"Mean Squared Error: \",mse)"
      ],
      "metadata": {
        "colab": {
          "base_uri": "https://localhost:8080/"
        },
        "id": "_aMN_NuROWt_",
        "outputId": "10c33b76-b7e5-48c2-e2b4-a7fded7918ae"
      },
      "execution_count": null,
      "outputs": [
        {
          "output_type": "stream",
          "name": "stdout",
          "text": [
            "Mean Squared Error:  7.568104051636985\n"
          ]
        }
      ]
    },
    {
      "cell_type": "code",
      "source": [
        "rmse=np.sqrt(mse)\n",
        "print(\"Root mean Square error: \",rmse)"
      ],
      "metadata": {
        "colab": {
          "base_uri": "https://localhost:8080/"
        },
        "id": "ctNo583eOfzP",
        "outputId": "fc768794-bc6d-4587-9456-c73bb049b4e2"
      },
      "execution_count": null,
      "outputs": [
        {
          "output_type": "stream",
          "name": "stdout",
          "text": [
            "Root mean Square error:  2.7510187297866557\n"
          ]
        }
      ]
    },
    {
      "cell_type": "code",
      "source": [
        "sst=np.sum((y-y_mean)**2)\n",
        "R2=1-(se/sst) \n",
        "print(\"R Square : \",R2)"
      ],
      "metadata": {
        "colab": {
          "base_uri": "https://localhost:8080/"
        },
        "id": "XJHlBviwOn2H",
        "outputId": "7f9cc3f0-cccc-4e69-f1ee-a4d0e0ba89de"
      },
      "execution_count": null,
      "outputs": [
        {
          "output_type": "stream",
          "name": "stdout",
          "text": [
            "R Square :  0.8058444510313024\n"
          ]
        }
      ]
    },
    {
      "cell_type": "code",
      "source": [
        "x=x.reshape(-1,1)\n",
        "lr=LinearRegression()\n",
        "\n",
        "#fit the  data /train the model\n",
        "\n",
        "lr.fit(x,y)\n",
        "\n",
        "#predict\n",
        "y_pred=lr.predict(x)\n",
        "\n",
        "#evaluation\n",
        "\n",
        "mse=mean_squared_error(y,y_pred)\n",
        "rmse=np.sqrt(mse)\n",
        "r2=r2_score(y,y_pred)"
      ],
      "metadata": {
        "id": "j5Lnh0YPO12c"
      },
      "execution_count": null,
      "outputs": []
    },
    {
      "cell_type": "code",
      "source": [
        "print('Slope:' ,lr.coef_)\n",
        "print('Intercept:', lr.intercept_)\n",
        "print('MSE:',mse)\n",
        "print('Root mean squared error: ', rmse)\n",
        "print('R2 score: ', r2)"
      ],
      "metadata": {
        "colab": {
          "base_uri": "https://localhost:8080/"
        },
        "id": "R1PYrlLa76Eu",
        "outputId": "b49b7c7b-f051-4712-9031-46458e7970c4"
      },
      "execution_count": null,
      "outputs": [
        {
          "output_type": "stream",
          "name": "stdout",
          "text": [
            "Slope: [0.91535112]\n",
            "Intercept: 4.897114861186717\n",
            "MSE: 7.568104051636985\n",
            "Root mean squared error:  2.7510187297866557\n",
            "R2 score:  0.8058444510313024\n"
          ]
        }
      ]
    },
    {
      "cell_type": "code",
      "source": [],
      "metadata": {
        "id": "cRKCXNSW8ekt"
      },
      "execution_count": null,
      "outputs": []
    }
  ]
}