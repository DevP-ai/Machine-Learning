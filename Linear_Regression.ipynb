{
  "nbformat": 4,
  "nbformat_minor": 0,
  "metadata": {
    "colab": {
      "provenance": [],
      "authorship_tag": "ABX9TyP/ereA9dRiss4qrLiMf7Gf",
      "include_colab_link": true
    },
    "kernelspec": {
      "name": "python3",
      "display_name": "Python 3"
    },
    "language_info": {
      "name": "python"
    }
  },
  "cells": [
    {
      "cell_type": "markdown",
      "metadata": {
        "id": "view-in-github",
        "colab_type": "text"
      },
      "source": [
        "<a href=\"https://colab.research.google.com/github/DevP-ai/Machine-Learning/blob/master/Linear_Regression.ipynb\" target=\"_parent\"><img src=\"https://colab.research.google.com/assets/colab-badge.svg\" alt=\"Open In Colab\"/></a>"
      ]
    },
    {
      "cell_type": "markdown",
      "source": [
        "## **Simple Linear Regression(Dummy Dataset)**"
      ],
      "metadata": {
        "id": "bH_QZ4bCZ-Cr"
      }
    },
    {
      "cell_type": "code",
      "execution_count": 1,
      "metadata": {
        "id": "jAE_LLKhYpi9"
      },
      "outputs": [],
      "source": [
        "import numpy as np\n",
        "x=np.array([1,2,3,4,5])\n",
        "y=np.array([7,14,15,18,19])"
      ]
    },
    {
      "cell_type": "code",
      "source": [
        "x_mean=np.mean(x)\n",
        "y_mean=np.mean(y)\n",
        "n=np.size(x)"
      ],
      "metadata": {
        "id": "mgrWJqD-bpGg"
      },
      "execution_count": 5,
      "outputs": []
    },
    {
      "cell_type": "code",
      "source": [
        "x_mean,y_mean"
      ],
      "metadata": {
        "colab": {
          "base_uri": "https://localhost:8080/"
        },
        "id": "NuvdHYvjb1Ay",
        "outputId": "1a7a5a97-fe4c-4021-91e5-6df30057c2b6"
      },
      "execution_count": 6,
      "outputs": [
        {
          "output_type": "execute_result",
          "data": {
            "text/plain": [
              "(3.0, 14.6)"
            ]
          },
          "metadata": {},
          "execution_count": 6
        }
      ]
    },
    {
      "cell_type": "code",
      "source": [
        "Sxy=np.sum(x*y)-n*x_mean*y_mean\n",
        "Sxx=np.sum(x*x)-n*x_mean*x_mean"
      ],
      "metadata": {
        "id": "snR5paP0b5ru"
      },
      "execution_count": 9,
      "outputs": []
    },
    {
      "cell_type": "code",
      "source": [
        "b1=Sxy/Sxx\n",
        "b0=y_mean-b1*x_mean\n",
        "print(\"Slope b1 is : \",b1)\n",
        "print(\"Intercept b0 is: \",b0)"
      ],
      "metadata": {
        "colab": {
          "base_uri": "https://localhost:8080/"
        },
        "id": "Gu3_qwTndyvC",
        "outputId": "0c91c9bf-a5ad-4f7f-9801-fbd2aaa9a8e9"
      },
      "execution_count": 11,
      "outputs": [
        {
          "output_type": "stream",
          "name": "stdout",
          "text": [
            "Slope b1 is :  2.8\n",
            "Intercept b0 is:  6.200000000000001\n"
          ]
        }
      ]
    },
    {
      "cell_type": "code",
      "source": [
        "import matplotlib.pyplot as plt\n",
        "plt.scatter(x,y)\n",
        "plt.xlabel('Independent Variable X')\n",
        "plt.ylabel('Dependent Varible Y')\n",
        "plt.show()"
      ],
      "metadata": {
        "colab": {
          "base_uri": "https://localhost:8080/",
          "height": 279
        },
        "id": "ebbzTsRZgDXL",
        "outputId": "edb2817c-eaec-49ae-a8c0-e1ecd2ea3826"
      },
      "execution_count": 14,
      "outputs": [
        {
          "output_type": "display_data",
          "data": {
            "text/plain": [
              "<Figure size 432x288 with 1 Axes>"
            ],
            "image/png": "[encoded data removed]"
          },
          "metadata": {
            "needs_background": "light"
          }
        }
      ]
    },
    {
      "cell_type": "code",
      "source": [
        "y_pred=b1*x+b0\n",
        "y_pred"
      ],
      "metadata": {
        "colab": {
          "base_uri": "https://localhost:8080/"
        },
        "id": "dmDuMC8Qniup",
        "outputId": "d7ae39b8-8e92-447e-cbc2-cdefe5933272"
      },
      "execution_count": 17,
      "outputs": [
        {
          "output_type": "execute_result",
          "data": {
            "text/plain": [
              "array([ 9. , 11.8, 14.6, 17.4, 20.2])"
            ]
          },
          "metadata": {},
          "execution_count": 17
        }
      ]
    },
    {
      "cell_type": "code",
      "source": [
        "plt.scatter(x,y,c='red')\n",
        "plt.plot(x,y_pred,c='green')\n",
        "plt.xlabel(\" X ----------------->\")\n",
        "plt.ylabel(\" Y ----------------->\")\n",
        "plt.show()"
      ],
      "metadata": {
        "colab": {
          "base_uri": "https://localhost:8080/",
          "height": 279
        },
        "id": "ud6jMLVln9rD",
        "outputId": "3b1792c9-3e81-4016-ed55-1c66e5e7405d"
      },
      "execution_count": 21,
      "outputs": [
        {
          "output_type": "display_data",
          "data": {
            "text/plain": [
              "<Figure size 432x288 with 1 Axes>"
            ],
            "image/png": "[encoded data removed]"
          },
          "metadata": {
            "needs_background": "light"
          }
        }
      ]
    },
    {
      "cell_type": "markdown",
      "source": [
        "## **Analyze the performance of the model by calculating mean squared error and R2**"
      ],
      "metadata": {
        "id": "G4duXEYAovvo"
      }
    },
    {
      "cell_type": "code",
      "source": [
        "error = y - y_pred\n",
        "se = np.sum(error**2)\n",
        "print('squared error is', se)\n",
        "  \n",
        "mse = se/n \n",
        "print('mean squared error is', mse)\n",
        "  \n",
        "rmse = np.sqrt(mse)\n",
        "print('root mean square error is', rmse)\n",
        "  \n",
        "SSt = np.sum((y - y_mean)**2)\n",
        "R2 = 1- (se/SSt)\n",
        "print('R square is', R2)"
      ],
      "metadata": {
        "colab": {
          "base_uri": "https://localhost:8080/"
        },
        "id": "d4hGfsrToQws",
        "outputId": "06ca2df5-0b31-48b0-d35e-44e1ee1da657"
      },
      "execution_count": 22,
      "outputs": [
        {
          "output_type": "stream",
          "name": "stdout",
          "text": [
            "squared error is 10.800000000000004\n",
            "mean squared error is 2.160000000000001\n",
            "root mean square error is 1.4696938456699071\n",
            "R square is 0.8789237668161435\n"
          ]
        }
      ]
    },
    {
      "cell_type": "markdown",
      "source": [
        "## **Use scikit library to confirm the above steps**"
      ],
      "metadata": {
        "id": "xga4kU_3pBM_"
      }
    },
    {
      "cell_type": "code",
      "source": [
        "from sklearn.linear_model import LinearRegression\n",
        "from sklearn.metrics import mean_squared_error,r2_score\n"
      ],
      "metadata": {
        "id": "N6B8xzKRon4F"
      },
      "execution_count": 28,
      "outputs": []
    },
    {
      "cell_type": "code",
      "source": [
        "x=x.reshape(-1,1)\n",
        "reg=LinearRegression()\n",
        "reg.fit(x,y)"
      ],
      "metadata": {
        "colab": {
          "base_uri": "https://localhost:8080/"
        },
        "id": "FyTJdmNlqCzJ",
        "outputId": "e397f664-1096-4d8d-af06-ae1e637c91ab"
      },
      "execution_count": 24,
      "outputs": [
        {
          "output_type": "execute_result",
          "data": {
            "text/plain": [
              "LinearRegression()"
            ]
          },
          "metadata": {},
          "execution_count": 24
        }
      ]
    },
    {
      "cell_type": "code",
      "source": [
        "y_predict=reg.predict(x)"
      ],
      "metadata": {
        "id": "fHlcVObHqTNe"
      },
      "execution_count": 25,
      "outputs": []
    },
    {
      "cell_type": "code",
      "source": [
        "mse=mean_squared_error(y,y_predict)\n",
        "print(\"MSE: \",mse)"
      ],
      "metadata": {
        "colab": {
          "base_uri": "https://localhost:8080/"
        },
        "id": "eL6I2yhvqa1-",
        "outputId": "9280071a-c5e5-4a82-fa53-93466dd6d90f"
      },
      "execution_count": 26,
      "outputs": [
        {
          "output_type": "stream",
          "name": "stdout",
          "text": [
            "MSE:  2.160000000000001\n"
          ]
        }
      ]
    },
    {
      "cell_type": "code",
      "source": [
        "rmse=np.sqrt(mse)\n",
        "print(\"RMSE: \",rmse)"
      ],
      "metadata": {
        "colab": {
          "base_uri": "https://localhost:8080/"
        },
        "id": "_ZTiO2bdqjZ5",
        "outputId": "5e31b18a-1869-4e0a-b8db-282a7fa85f04"
      },
      "execution_count": 27,
      "outputs": [
        {
          "output_type": "stream",
          "name": "stdout",
          "text": [
            "RMSE:  1.4696938456699071\n"
          ]
        }
      ]
    },
    {
      "cell_type": "code",
      "source": [
        "r2=r2_score(y,y_predict)\n",
        "print(\"R2_Score: \",r2)"
      ],
      "metadata": {
        "colab": {
          "base_uri": "https://localhost:8080/"
        },
        "id": "raasns_rqte2",
        "outputId": "db17c4ab-ac30-45dc-900d-4a2d65ec38fb"
      },
      "execution_count": 30,
      "outputs": [
        {
          "output_type": "stream",
          "name": "stdout",
          "text": [
            "R2_Score:  0.8789237668161435\n"
          ]
        }
      ]
    },
    {
      "cell_type": "markdown",
      "source": [
        "## **Multiple linear regression**"
      ],
      "metadata": {
        "id": "yb73a3W8sauq"
      }
    },
    {
      "cell_type": "code",
      "source": [
        "from sklearn import datasets"
      ],
      "metadata": {
        "id": "kI3vcUSNq_W5"
      },
      "execution_count": 32,
      "outputs": []
    },
    {
      "cell_type": "code",
      "source": [
        "df=datasets.load_boston(return_X_y=False)"
      ],
      "metadata": {
        "colab": {
          "base_uri": "https://localhost:8080/"
        },
        "id": "Lk2x3pPwsx3G",
        "outputId": "073b1799-d20b-4bd3-9cf0-54d1f3c093b8"
      },
      "execution_count": 34,
      "outputs": [
        {
          "output_type": "stream",
          "name": "stderr",
          "text": [
            "/usr/local/lib/python3.8/dist-packages/sklearn/utils/deprecation.py:87: FutureWarning: Function load_boston is deprecated; `load_boston` is deprecated in 1.0 and will be removed in 1.2.\n",
            "\n",
            "    The Boston housing prices dataset has an ethical problem. You can refer to\n",
            "    the documentation of this function for further details.\n",
            "\n",
            "    The scikit-learn maintainers therefore strongly discourage the use of this\n",
            "    dataset unless the purpose of the code is to study and educate about\n",
            "    ethical issues in data science and machine learning.\n",
            "\n",
            "    In this special case, you can fetch the dataset from the original\n",
            "    source::\n",
            "\n",
            "        import pandas as pd\n",
            "        import numpy as np\n",
            "\n",
            "\n",
            "        data_url = \"http://lib.stat.cmu.edu/datasets/boston\"\n",
            "        raw_df = pd.read_csv(data_url, sep=\"\\s+\", skiprows=22, header=None)\n",
            "        data = np.hstack([raw_df.values[::2, :], raw_df.values[1::2, :2]])\n",
            "        target = raw_df.values[1::2, 2]\n",
            "\n",
            "    Alternative datasets include the California housing dataset (i.e.\n",
            "    :func:`~sklearn.datasets.fetch_california_housing`) and the Ames housing\n",
            "    dataset. You can load the datasets as follows::\n",
            "\n",
            "        from sklearn.datasets import fetch_california_housing\n",
            "        housing = fetch_california_housing()\n",
            "\n",
            "    for the California housing dataset and::\n",
            "\n",
            "        from sklearn.datasets import fetch_openml\n",
            "        housing = fetch_openml(name=\"house_prices\", as_frame=True)\n",
            "\n",
            "    for the Ames housing dataset.\n",
            "    \n",
            "  warnings.warn(msg, category=FutureWarning)\n"
          ]
        }
      ]
    },
    {
      "cell_type": "code",
      "source": [
        "X=df.data\n",
        "X.shape"
      ],
      "metadata": {
        "colab": {
          "base_uri": "https://localhost:8080/"
        },
        "id": "Gruwh-NmtTQW",
        "outputId": "262dc468-771d-47ce-bd01-799b01a0672b"
      },
      "execution_count": 46,
      "outputs": [
        {
          "output_type": "execute_result",
          "data": {
            "text/plain": [
              "(506, 13)"
            ]
          },
          "metadata": {},
          "execution_count": 46
        }
      ]
    },
    {
      "cell_type": "code",
      "source": [
        "y=df.target\n",
        "y.shape"
      ],
      "metadata": {
        "colab": {
          "base_uri": "https://localhost:8080/"
        },
        "id": "h92fxcw4tYta",
        "outputId": "f2a6c427-a0d1-405e-cdfe-c9bc9d8cb717"
      },
      "execution_count": 47,
      "outputs": [
        {
          "output_type": "execute_result",
          "data": {
            "text/plain": [
              "(506,)"
            ]
          },
          "metadata": {},
          "execution_count": 47
        }
      ]
    },
    {
      "cell_type": "code",
      "source": [
        "from sklearn.model_selection import train_test_split"
      ],
      "metadata": {
        "id": "KsZR4W2Mt2Gf"
      },
      "execution_count": 50,
      "outputs": []
    },
    {
      "cell_type": "code",
      "source": [
        "X_train,X_test,y_train,y_test=train_test_split(X,y,test_size=0.2,random_state=2)"
      ],
      "metadata": {
        "id": "s8FyUgJ903x_"
      },
      "execution_count": 51,
      "outputs": []
    },
    {
      "cell_type": "code",
      "source": [
        "reg=LinearRegression()"
      ],
      "metadata": {
        "id": "989GlNdr1YFQ"
      },
      "execution_count": 52,
      "outputs": []
    },
    {
      "cell_type": "code",
      "source": [
        "reg.fit(X_train,y_train)"
      ],
      "metadata": {
        "colab": {
          "base_uri": "https://localhost:8080/"
        },
        "id": "RywIVFRC1cty",
        "outputId": "9bc27643-a886-4a85-ed9a-d8d36332a750"
      },
      "execution_count": 53,
      "outputs": [
        {
          "output_type": "execute_result",
          "data": {
            "text/plain": [
              "LinearRegression()"
            ]
          },
          "metadata": {},
          "execution_count": 53
        }
      ]
    },
    {
      "cell_type": "code",
      "source": [
        "print(\"Coefficient: \",reg.coef_)"
      ],
      "metadata": {
        "colab": {
          "base_uri": "https://localhost:8080/"
        },
        "id": "Mcy4SboW1gAZ",
        "outputId": "a5a117a8-0a8d-48f7-ec1d-cb15023274be"
      },
      "execution_count": 54,
      "outputs": [
        {
          "output_type": "stream",
          "name": "stdout",
          "text": [
            "Coefficient:  [-1.08223557e-01  3.89039349e-02 -1.51517627e-02  3.15897941e+00\n",
            " -1.65854070e+01  3.63288486e+00  9.35052187e-03 -1.38618151e+00\n",
            "  3.24065945e-01 -1.16245167e-02 -1.03644251e+00  1.16127489e-02\n",
            " -5.58409340e-01]\n"
          ]
        }
      ]
    },
    {
      "cell_type": "code",
      "source": [
        "#Variance Score: 1 means perfect prediction\n",
        "print(\"Variance score : {}\".format(reg.score(X_test,y_test)))"
      ],
      "metadata": {
        "colab": {
          "base_uri": "https://localhost:8080/"
        },
        "id": "9J8lMjfB1mNt",
        "outputId": "2d0d049e-75da-4f11-d97e-219bfc233b32"
      },
      "execution_count": 57,
      "outputs": [
        {
          "output_type": "stream",
          "name": "stdout",
          "text": [
            "Variance score : 0.7789207451814436\n"
          ]
        }
      ]
    },
    {
      "cell_type": "code",
      "source": [
        "#setting p.ot style\n",
        "plt.style.use('fivethirtyeight')\n",
        "\n",
        "# plotting residual errors in training data\n",
        "plt.scatter(reg.predict(X_train),reg.predict(X_train)-y_train,c='blue',s=10,label='Train Data')\n",
        "\n",
        "# plotting residual errors in test data\n",
        "plt.scatter(reg.predict(X_test),reg.predict(X_test)-y_test,c='green',s=10,label=\"Test Data\")\n",
        "\n",
        "# plotting line for zero residual error\n",
        "plt.hlines(y=0,xmin=0,xmax=50,linewidth=2)\n",
        "\n",
        "#plot legend\n",
        "plt.legend(loc='upper right')\n",
        "\n",
        "plt.title(\"Residual Errors\")\n",
        "\n",
        "plt.show()\n"
      ],
      "metadata": {
        "colab": {
          "base_uri": "https://localhost:8080/",
          "height": 303
        },
        "id": "RxNSTrU_1184",
        "outputId": "7dc275e7-97dc-43cb-e47f-a5684520a4dd"
      },
      "execution_count": 59,
      "outputs": [
        {
          "output_type": "display_data",
          "data": {
            "text/plain": [
              "<Figure size 432x288 with 1 Axes>"
            ],
            "image/png": "[encoded data removed]"
          },
          "metadata": {}
        }
      ]
    },
    {
      "cell_type": "code",
      "source": [],
      "metadata": {
        "id": "_WQ371472hzv"
      },
      "execution_count": null,
      "outputs": []
    }
  ]
}