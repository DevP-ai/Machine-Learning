{
  "nbformat": 4,
  "nbformat_minor": 0,
  "metadata": {
    "colab": {
      "provenance": [],
      "authorship_tag": "ABX9TyPpSuLMXKPdKeU7ia6mHtWs",
      "include_colab_link": true
    },
    "kernelspec": {
      "name": "python3",
      "display_name": "Python 3"
    },
    "language_info": {
      "name": "python"
    }
  },
  "cells": [
    {
      "cell_type": "markdown",
      "metadata": {
        "id": "view-in-github",
        "colab_type": "text"
      },
      "source": [
        "<a href=\"https://colab.research.google.com/github/DevP-ai/Machine-Learning/blob/master/Assignment_5.ipynb\" target=\"_parent\"><img src=\"https://colab.research.google.com/assets/colab-badge.svg\" alt=\"Open In Colab\"/></a>"
      ]
    },
    {
      "cell_type": "code",
      "execution_count": 1,
      "metadata": {
        "colab": {
          "base_uri": "https://localhost:8080/",
          "height": 265
        },
        "id": "nw2zeL8s5C4N",
        "outputId": "ad182429-1f95-41c5-de49-7ce6c4590785"
      },
      "outputs": [
        {
          "output_type": "display_data",
          "data": {
            "text/plain": [
              "<Figure size 432x288 with 1 Axes>"
            ],
            "image/png": "[encoded data removed]"
          },
          "metadata": {
            "needs_background": "light"
          }
        }
      ],
      "source": [
        "import numpy as np\n",
        "import matplotlib.pyplot as plt\n",
        "\n",
        "np.random.seed(0)\n",
        "x = 2 - 3 * np.random.normal(0, 1, 20)\n",
        "y = x - 2 * (x ** 2) + 0.5 * (x ** 3) + np.random.normal(-3, 3, 20)\n",
        "plt.scatter(x,y, s=10)\n",
        "plt.show()"
      ]
    },
    {
      "cell_type": "code",
      "source": [
        "import numpy as np\n",
        "import matplotlib.pyplot as plt\n",
        "\n",
        "from sklearn.linear_model import LinearRegression\n",
        "\n",
        "np.random.seed(0)\n",
        "x = 2 - 3 * np.random.normal(0, 1, 20)\n",
        "y = x - 2 * (x ** 2) + 0.5 * (x ** 3) + np.random.normal(-3, 3, 20)\n",
        "\n",
        "# transforming the data to include another axis\n",
        "x = x[:, np.newaxis]\n",
        "y = y[:, np.newaxis]\n",
        "\n",
        "model = LinearRegression()\n",
        "model.fit(x, y)\n",
        "y_pred = model.predict(x)\n",
        "\n",
        "\n",
        "plt.scatter(x, y, s=10)\n",
        "plt.plot(x, y_pred, color='r')\n",
        "plt.show()"
      ],
      "metadata": {
        "colab": {
          "base_uri": "https://localhost:8080/",
          "height": 265
        },
        "id": "ggG3ltEh5H7A",
        "outputId": "c8f0d38f-7cdc-42a3-a0d8-7bf682390e3e"
      },
      "execution_count": 2,
      "outputs": [
        {
          "output_type": "display_data",
          "data": {
            "text/plain": [
              "<Figure size 432x288 with 1 Axes>"
            ],
            "image/png": "[encoded data removed]"
          },
          "metadata": {
            "needs_background": "light"
          }
        }
      ]
    },
    {
      "cell_type": "markdown",
      "source": [
        "Degree 5"
      ],
      "metadata": {
        "id": "E1yJNMC45n-S"
      }
    },
    {
      "cell_type": "code",
      "source": [
        "import operator\n",
        "\n",
        "import numpy as np\n",
        "import matplotlib.pyplot as plt\n",
        "\n",
        "from sklearn.linear_model import LinearRegression\n",
        "from sklearn.metrics import mean_squared_error, r2_score\n",
        "from sklearn.preprocessing import PolynomialFeatures\n",
        "\n",
        "np.random.seed(0)\n",
        "x = 2 - 3 * np.random.normal(0, 1, 20)\n",
        "y = x - 2 * (x ** 2) + 0.5 * (x ** 3) + np.random.normal(-3, 3, 20)\n",
        "\n",
        "# transforming the data to include another axis\n",
        "x = x[:, np.newaxis]\n",
        "y = y[:, np.newaxis]\n",
        "\n",
        "polynomial_features= PolynomialFeatures(degree=5)\n",
        "x_poly = polynomial_features.fit_transform(x)\n",
        "\n",
        "model = LinearRegression()\n",
        "model.fit(x_poly, y)\n",
        "cccccc = model.predict(x_poly)\n",
        "\n",
        "\n",
        "\n",
        "plt.scatter(x, y, s=10)\n",
        "# sort the values of x before line plot\n",
        "sort_axis = operator.itemgetter(0)\n",
        "sorted_zip = sorted(zip(x,y_poly_pred), key=sort_axis)\n",
        "x, y_poly_pred = zip(*sorted_zip)\n",
        "plt.plot(x, y_poly_pred, color='m')\n",
        "plt.show()"
      ],
      "metadata": {
        "colab": {
          "base_uri": "https://localhost:8080/",
          "height": 265
        },
        "id": "q5K8Rb_35Q68",
        "outputId": "09639cc9-1b7c-4368-aa52-062bf1629a19"
      },
      "execution_count": 6,
      "outputs": [
        {
          "output_type": "display_data",
          "data": {
            "text/plain": [
              "<Figure size 432x288 with 1 Axes>"
            ],
            "image/png": "[encoded data removed]"
          },
          "metadata": {
            "needs_background": "light"
          }
        }
      ]
    },
    {
      "cell_type": "markdown",
      "source": [
        "Mean Square Error (MSE)"
      ],
      "metadata": {
        "id": "GLhmJdb05sg8"
      }
    },
    {
      "cell_type": "code",
      "source": [
        "mse = mean_squared_error(y,y_poly_pred)\n",
        "mse"
      ],
      "metadata": {
        "colab": {
          "base_uri": "https://localhost:8080/"
        },
        "id": "Iu4hWYud5xk_",
        "outputId": "dc143ca0-2c9a-43a5-b985-a00a10d00a8e"
      },
      "execution_count": 7,
      "outputs": [
        {
          "output_type": "execute_result",
          "data": {
            "text/plain": [
              "816.4152596322879"
            ]
          },
          "metadata": {},
          "execution_count": 7
        }
      ]
    },
    {
      "cell_type": "markdown",
      "source": [
        "Root Mean Square Error (RMSE)"
      ],
      "metadata": {
        "id": "t6Oy7wFw53XH"
      }
    },
    {
      "cell_type": "code",
      "source": [
        "rmse = np.sqrt(mean_squared_error(y,y_poly_pred))\n",
        "\n",
        "print(rmse)\n"
      ],
      "metadata": {
        "colab": {
          "base_uri": "https://localhost:8080/"
        },
        "id": "Tp97a5-75Rl4",
        "outputId": "9b644fec-470a-43bc-e51d-8b2d99b635f8"
      },
      "execution_count": 8,
      "outputs": [
        {
          "output_type": "stream",
          "name": "stdout",
          "text": [
            "28.57298128708812\n"
          ]
        }
      ]
    },
    {
      "cell_type": "markdown",
      "source": [
        "Coefficient of Determination R2"
      ],
      "metadata": {
        "id": "6I5hia5Q6CQT"
      }
    },
    {
      "cell_type": "code",
      "source": [
        "r2 = r2_score(y,y_poly_pred)\n",
        "print(r2)"
      ],
      "metadata": {
        "colab": {
          "base_uri": "https://localhost:8080/"
        },
        "id": "wXu64Ptl5-kv",
        "outputId": "4db70095-f6f4-4908-9bea-1b744c3bae56"
      },
      "execution_count": 9,
      "outputs": [
        {
          "output_type": "stream",
          "name": "stdout",
          "text": [
            "-0.16564072673488295\n"
          ]
        }
      ]
    },
    {
      "cell_type": "code",
      "source": [
        "import statsmodels.api as sm"
      ],
      "metadata": {
        "id": "guB_lwQL6u5e"
      },
      "execution_count": 10,
      "outputs": []
    },
    {
      "cell_type": "markdown",
      "source": [
        "SSE (Sum Squared Error)"
      ],
      "metadata": {
        "id": "ROloWhRf7dvY"
      }
    },
    {
      "cell_type": "code",
      "source": [
        "sse = np.sum((y_poly_pred - y)**2)\n",
        "print(sse)"
      ],
      "metadata": {
        "colab": {
          "base_uri": "https://localhost:8080/"
        },
        "id": "vKFSmdIL6czc",
        "outputId": "47666f2d-19d9-48fa-fb20-8d6fc6641025"
      },
      "execution_count": 13,
      "outputs": [
        {
          "output_type": "stream",
          "name": "stdout",
          "text": [
            "16328.305192645757\n"
          ]
        }
      ]
    },
    {
      "cell_type": "markdown",
      "source": [
        "SSR (Sum Squared Regression)"
      ],
      "metadata": {
        "id": "k-OptcHc7lSw"
      }
    },
    {
      "cell_type": "code",
      "source": [
        "\n",
        "ssr = np.sum((y_poly_pred - y.mean())**2)\n",
        "print(ssr)"
      ],
      "metadata": {
        "colab": {
          "base_uri": "https://localhost:8080/"
        },
        "id": "vPF-7mrH6c2E",
        "outputId": "90fa3b7a-b837-4e7f-d5ca-1ed0e9d35096"
      },
      "execution_count": 14,
      "outputs": [
        {
          "output_type": "stream",
          "name": "stdout",
          "text": [
            "13791.085153629223\n"
          ]
        }
      ]
    },
    {
      "cell_type": "markdown",
      "source": [
        "SST (Sum Squared Total)"
      ],
      "metadata": {
        "id": "xCZeR40C7w5R"
      }
    },
    {
      "cell_type": "code",
      "source": [
        "sst = ssr + sse\n",
        "print(sst)"
      ],
      "metadata": {
        "colab": {
          "base_uri": "https://localhost:8080/"
        },
        "id": "_kM5zBCj6c6T",
        "outputId": "34c61e7f-08bf-46c4-c32c-ddbc6ebd70c7"
      },
      "execution_count": 15,
      "outputs": [
        {
          "output_type": "stream",
          "name": "stdout",
          "text": [
            "30119.39034627498\n"
          ]
        }
      ]
    },
    {
      "cell_type": "markdown",
      "source": [
        "Degree-10"
      ],
      "metadata": {
        "id": "6MUbk2Z56Gvz"
      }
    },
    {
      "cell_type": "code",
      "source": [
        "import operator\n",
        "\n",
        "import numpy as np\n",
        "import matplotlib.pyplot as plt\n",
        "\n",
        "from sklearn.linear_model import LinearRegression\n",
        "from sklearn.metrics import mean_squared_error, r2_score\n",
        "from sklearn.preprocessing import PolynomialFeatures\n",
        "\n",
        "np.random.seed(0)\n",
        "x = 2 - 3 * np.random.normal(0, 1, 20)\n",
        "y = x - 2 * (x ** 2) + 0.5 * (x ** 3) + np.random.normal(-3, 3, 20)\n",
        "\n",
        "# transforming the data to include another axis\n",
        "x = x[:, np.newaxis]\n",
        "y = y[:, np.newaxis]\n",
        "\n",
        "polynomial_features= PolynomialFeatures(degree=10)\n",
        "x_poly = polynomial_features.fit_transform(x)\n",
        "\n",
        "model = LinearRegression()\n",
        "model.fit(x_poly, y)\n",
        "y_poly_pred = model.predict(x_poly)\n",
        "\n",
        "plt.scatter(x, y, s=10)\n",
        "# sort the values of x before line plot\n",
        "sort_axis = operator.itemgetter(0)\n",
        "sorted_zip = sorted(zip(x,y_poly_pred), key=sort_axis)\n",
        "x, y_poly_pred = zip(*sorted_zip)\n",
        "plt.plot(x, y_poly_pred, color='m')\n",
        "plt.show()"
      ],
      "metadata": {
        "colab": {
          "base_uri": "https://localhost:8080/",
          "height": 265
        },
        "id": "SvOlnfDX5cUf",
        "outputId": "46cd26f3-d8f3-4081-edcf-81838992890c"
      },
      "execution_count": 16,
      "outputs": [
        {
          "output_type": "display_data",
          "data": {
            "text/plain": [
              "<Figure size 432x288 with 1 Axes>"
            ],
            "image/png": "[encoded data removed]"
          },
          "metadata": {
            "needs_background": "light"
          }
        }
      ]
    },
    {
      "cell_type": "markdown",
      "source": [
        "Mean Square Error (MSE)"
      ],
      "metadata": {
        "id": "PgDCAKBv8Pii"
      }
    },
    {
      "cell_type": "code",
      "source": [
        "mse = mean_squared_error(y,y_poly_pred)\n",
        "mse"
      ],
      "metadata": {
        "colab": {
          "base_uri": "https://localhost:8080/"
        },
        "id": "bwrndX1I72Dx",
        "outputId": "9625314b-bd9d-49ba-aafa-7b2833b4c789"
      },
      "execution_count": 17,
      "outputs": [
        {
          "output_type": "execute_result",
          "data": {
            "text/plain": [
              "827.3716483276828"
            ]
          },
          "metadata": {},
          "execution_count": 17
        }
      ]
    },
    {
      "cell_type": "markdown",
      "source": [
        "Root Mean Square Error (RMSE)"
      ],
      "metadata": {
        "id": "r4T_k__i8Sgy"
      }
    },
    {
      "cell_type": "code",
      "source": [
        "rmse = np.sqrt(mean_squared_error(y,y_poly_pred))\n",
        "\n",
        "print(rmse)\n"
      ],
      "metadata": {
        "colab": {
          "base_uri": "https://localhost:8080/"
        },
        "id": "kuVo-WcP75vJ",
        "outputId": "6fb736d5-016d-44aa-c0ff-05cfc9a59a52"
      },
      "execution_count": 18,
      "outputs": [
        {
          "output_type": "stream",
          "name": "stdout",
          "text": [
            "28.764068702596347\n"
          ]
        }
      ]
    },
    {
      "cell_type": "markdown",
      "source": [
        "Coefficient of Determination R2"
      ],
      "metadata": {
        "id": "wZTFANVj8W3x"
      }
    },
    {
      "cell_type": "code",
      "source": [
        "r2 = r2_score(y,y_poly_pred)\n",
        "print(r2)"
      ],
      "metadata": {
        "colab": {
          "base_uri": "https://localhost:8080/"
        },
        "id": "ggJu6Y2c79IT",
        "outputId": "c97340ce-9529-464e-8089-905cc7a27a75"
      },
      "execution_count": 19,
      "outputs": [
        {
          "output_type": "stream",
          "name": "stdout",
          "text": [
            "-0.18128376222523146\n"
          ]
        }
      ]
    },
    {
      "cell_type": "markdown",
      "source": [
        "SSE (Sum Squared Error)"
      ],
      "metadata": {
        "id": "sAaliDhE8ail"
      }
    },
    {
      "cell_type": "code",
      "source": [
        "sse = np.sum((y_poly_pred - y)**2)\n",
        "print(sse)"
      ],
      "metadata": {
        "colab": {
          "base_uri": "https://localhost:8080/"
        },
        "id": "l8xc7QxF8Cfp",
        "outputId": "6677dadd-6b0b-4d91-e541-bdd9689e7f15"
      },
      "execution_count": 20,
      "outputs": [
        {
          "output_type": "stream",
          "name": "stdout",
          "text": [
            "16547.432966553657\n"
          ]
        }
      ]
    },
    {
      "cell_type": "markdown",
      "source": [
        "SSR (Sum Squared Regression)"
      ],
      "metadata": {
        "id": "3rvVucr78dID"
      }
    },
    {
      "cell_type": "code",
      "source": [
        "\n",
        "ssr = np.sum((y_poly_pred - y.mean())**2)\n",
        "print(ssr)"
      ],
      "metadata": {
        "colab": {
          "base_uri": "https://localhost:8080/"
        },
        "id": "IaNVjpZ68HIK",
        "outputId": "09e0414f-1a72-473c-ea5a-4c6853feba58"
      },
      "execution_count": 21,
      "outputs": [
        {
          "output_type": "stream",
          "name": "stdout",
          "text": [
            "13926.04478787991\n"
          ]
        }
      ]
    },
    {
      "cell_type": "markdown",
      "source": [
        "SST (Sum Squared Total)"
      ],
      "metadata": {
        "id": "TII1KkqS8gT-"
      }
    },
    {
      "cell_type": "code",
      "source": [
        "sst = ssr + sse\n",
        "print(sst)"
      ],
      "metadata": {
        "colab": {
          "base_uri": "https://localhost:8080/"
        },
        "id": "n8Zz3J-q8LSD",
        "outputId": "aee58571-2c91-4de6-8030-98806222e819"
      },
      "execution_count": 22,
      "outputs": [
        {
          "output_type": "stream",
          "name": "stdout",
          "text": [
            "30473.477754433567\n"
          ]
        }
      ]
    },
    {
      "cell_type": "code",
      "source": [],
      "metadata": {
        "id": "mpLjJ4Xf8OPq"
      },
      "execution_count": null,
      "outputs": []
    }
  ]
}